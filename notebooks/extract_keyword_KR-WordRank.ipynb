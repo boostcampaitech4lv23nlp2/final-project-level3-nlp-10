{
 "cells": [
  {
   "attachments": {},
   "cell_type": "markdown",
   "metadata": {},
   "source": [
    "### 1. load dataset"
   ]
  },
  {
   "cell_type": "code",
   "execution_count": 1,
   "metadata": {},
   "outputs": [],
   "source": [
    "from glob import glob\n",
    "import json\n",
    "import gzip, pickle\n",
    "import re\n",
    "from typing import List, Tuple\n",
    "\n",
    "train_dataset_pattern = \"../data/train.pickle\"\n",
    "valid_dataset_pattern = \"../data/validation.pickle\""
   ]
  },
  {
   "cell_type": "code",
   "execution_count": 2,
   "metadata": {},
   "outputs": [
    {
     "data": {
      "text/html": [
       "<div>\n",
       "<style scoped>\n",
       "    .dataframe tbody tr th:only-of-type {\n",
       "        vertical-align: middle;\n",
       "    }\n",
       "\n",
       "    .dataframe tbody tr th {\n",
       "        vertical-align: top;\n",
       "    }\n",
       "\n",
       "    .dataframe thead th {\n",
       "        text-align: right;\n",
       "    }\n",
       "</style>\n",
       "<table border=\"1\" class=\"dataframe\">\n",
       "  <thead>\n",
       "    <tr style=\"text-align: right;\">\n",
       "      <th></th>\n",
       "      <th>source</th>\n",
       "      <th>ids</th>\n",
       "      <th>passage</th>\n",
       "      <th>annotation</th>\n",
       "    </tr>\n",
       "  </thead>\n",
       "  <tbody>\n",
       "    <tr>\n",
       "      <th>0</th>\n",
       "      <td>report</td>\n",
       "      <td>REPORT-minute-00001-00004</td>\n",
       "      <td>위원장 신학용] \"수고하셨습니다.   다음은 존경하는 현영희 위원님 인사말씀해 주세...</td>\n",
       "      <td>{'summary1': '아이들의 미래를 열어가는 장을 만들 수 있는 교과위에 오기...</td>\n",
       "    </tr>\n",
       "    <tr>\n",
       "      <th>1</th>\n",
       "      <td>report</td>\n",
       "      <td>REPORT-minute-00001-00006</td>\n",
       "      <td>위원장 신학용] \"수고하셨고요.  이상민 위원님 인사말씀해 주세요.\"\\n이상민 위원...</td>\n",
       "      <td>{'summary1': '이 위원은 교육과 과학이 국가의 미래이고 서민들의 삶을 결...</td>\n",
       "    </tr>\n",
       "    <tr>\n",
       "      <th>2</th>\n",
       "      <td>report</td>\n",
       "      <td>REPORT-minute-00001-00019</td>\n",
       "      <td>교육과학기술부장관 이주호] \"96년부터 시행을 하고 있습니다.\"\\n강은희 위원] \"...</td>\n",
       "      <td>{'summary1': '강 위원은 진보 성향의 교육감을 둔 지역은 공교롭게도 20...</td>\n",
       "    </tr>\n",
       "    <tr>\n",
       "      <th>3</th>\n",
       "      <td>report</td>\n",
       "      <td>REPORT-minute-00001-00032</td>\n",
       "      <td>교육과학기술부장관 이주호] \"저희도 그 부분이 굉장히 가장 중요한 부분이라고 생각하...</td>\n",
       "      <td>{'summary1': '이 교육과학기술부장관은 주 5일제가 잘 정착하기 위해 학교...</td>\n",
       "    </tr>\n",
       "    <tr>\n",
       "      <th>4</th>\n",
       "      <td>report</td>\n",
       "      <td>REPORT-minute-00001-00033</td>\n",
       "      <td>교육과학기술부장관 이주호] \"예.\"\\n김상희 위원] \"결정을 해서 지금 이제 권고를...</td>\n",
       "      <td>{'summary1': '김 위원은 야당 국회의원인 시인 도 씨의 작품을 교과서에서...</td>\n",
       "    </tr>\n",
       "  </tbody>\n",
       "</table>\n",
       "</div>"
      ],
      "text/plain": [
       "   source                        ids  \\\n",
       "0  report  REPORT-minute-00001-00004   \n",
       "1  report  REPORT-minute-00001-00006   \n",
       "2  report  REPORT-minute-00001-00019   \n",
       "3  report  REPORT-minute-00001-00032   \n",
       "4  report  REPORT-minute-00001-00033   \n",
       "\n",
       "                                             passage  \\\n",
       "0  위원장 신학용] \"수고하셨습니다.   다음은 존경하는 현영희 위원님 인사말씀해 주세...   \n",
       "1  위원장 신학용] \"수고하셨고요.  이상민 위원님 인사말씀해 주세요.\"\\n이상민 위원...   \n",
       "2  교육과학기술부장관 이주호] \"96년부터 시행을 하고 있습니다.\"\\n강은희 위원] \"...   \n",
       "3  교육과학기술부장관 이주호] \"저희도 그 부분이 굉장히 가장 중요한 부분이라고 생각하...   \n",
       "4  교육과학기술부장관 이주호] \"예.\"\\n김상희 위원] \"결정을 해서 지금 이제 권고를...   \n",
       "\n",
       "                                          annotation  \n",
       "0  {'summary1': '아이들의 미래를 열어가는 장을 만들 수 있는 교과위에 오기...  \n",
       "1  {'summary1': '이 위원은 교육과 과학이 국가의 미래이고 서민들의 삶을 결...  \n",
       "2  {'summary1': '강 위원은 진보 성향의 교육감을 둔 지역은 공교롭게도 20...  \n",
       "3  {'summary1': '이 교육과학기술부장관은 주 5일제가 잘 정착하기 위해 학교...  \n",
       "4  {'summary1': '김 위원은 야당 국회의원인 시인 도 씨의 작품을 교과서에서...  "
      ]
     },
     "execution_count": 2,
     "metadata": {},
     "output_type": "execute_result"
    }
   ],
   "source": [
    "with gzip.open(train_dataset_pattern, 'rb') as f:\n",
    "    train_data = pickle.load(f)\n",
    "\n",
    "train_data.head(5)"
   ]
  },
  {
   "cell_type": "code",
   "execution_count": 3,
   "metadata": {},
   "outputs": [
    {
     "data": {
      "text/html": [
       "<div>\n",
       "<style scoped>\n",
       "    .dataframe tbody tr th:only-of-type {\n",
       "        vertical-align: middle;\n",
       "    }\n",
       "\n",
       "    .dataframe tbody tr th {\n",
       "        vertical-align: top;\n",
       "    }\n",
       "\n",
       "    .dataframe thead th {\n",
       "        text-align: right;\n",
       "    }\n",
       "</style>\n",
       "<table border=\"1\" class=\"dataframe\">\n",
       "  <thead>\n",
       "    <tr style=\"text-align: right;\">\n",
       "      <th></th>\n",
       "      <th>source</th>\n",
       "      <th>ids</th>\n",
       "      <th>passage</th>\n",
       "      <th>annotation</th>\n",
       "    </tr>\n",
       "  </thead>\n",
       "  <tbody>\n",
       "    <tr>\n",
       "      <th>0</th>\n",
       "      <td>report</td>\n",
       "      <td>REPORT-minute-00001-00021</td>\n",
       "      <td>강은희 위원] \"마지막으로 한 가지 더 여쭙겠습니다.   최근 민간자격증 관해서도 ...</td>\n",
       "      <td>{'summary1': '강 의원은 민간자격증 논란과 관련해 교육부 차원에서 민간자...</td>\n",
       "    </tr>\n",
       "    <tr>\n",
       "      <th>1</th>\n",
       "      <td>report</td>\n",
       "      <td>REPORT-minute-00001-00034</td>\n",
       "      <td>교육과학기술부장관 이주호] \"제가 앞에서도 말씀드렸지만 그게 위탁업무이기 때문에 그...</td>\n",
       "      <td>{'summary1': '교육과학기술부장관 이 씨는 위탁업무이기 때문이라고 말하자 ...</td>\n",
       "    </tr>\n",
       "    <tr>\n",
       "      <th>2</th>\n",
       "      <td>report</td>\n",
       "      <td>REPORT-minute-00001-00045</td>\n",
       "      <td>교육과학기술부장관 이주호] \"예.\"\\n박혜자 위원] \"그 이유는 지역과 학교의 다양...</td>\n",
       "      <td>{'summary1': '박 위원은 교육부를 해체시켜 연구학습부로 개편하자고 한 장...</td>\n",
       "    </tr>\n",
       "    <tr>\n",
       "      <th>3</th>\n",
       "      <td>report</td>\n",
       "      <td>REPORT-minute-00001-00059</td>\n",
       "      <td>교육과학기술부장관 이주호] \"예 어떻든 하여튼 최선 다해서……\"\\n이상민 위원] \"...</td>\n",
       "      <td>{'summary1': '컨트롤타워가 누군지 묻는 이 위원의 말에 이 장관은 국과위...</td>\n",
       "    </tr>\n",
       "    <tr>\n",
       "      <th>4</th>\n",
       "      <td>report</td>\n",
       "      <td>REPORT-minute-00001-00060</td>\n",
       "      <td>이상민 위원] \"아니 보세요. 장관님 예산에 대한 조정ㆍ배분권만 갖고 있으면 대한민...</td>\n",
       "      <td>{'summary1': '이 위원은 이 정부의 최대 국정 파탄의 예는 과학기술에 대...</td>\n",
       "    </tr>\n",
       "  </tbody>\n",
       "</table>\n",
       "</div>"
      ],
      "text/plain": [
       "   source                        ids  \\\n",
       "0  report  REPORT-minute-00001-00021   \n",
       "1  report  REPORT-minute-00001-00034   \n",
       "2  report  REPORT-minute-00001-00045   \n",
       "3  report  REPORT-minute-00001-00059   \n",
       "4  report  REPORT-minute-00001-00060   \n",
       "\n",
       "                                             passage  \\\n",
       "0  강은희 위원] \"마지막으로 한 가지 더 여쭙겠습니다.   최근 민간자격증 관해서도 ...   \n",
       "1  교육과학기술부장관 이주호] \"제가 앞에서도 말씀드렸지만 그게 위탁업무이기 때문에 그...   \n",
       "2  교육과학기술부장관 이주호] \"예.\"\\n박혜자 위원] \"그 이유는 지역과 학교의 다양...   \n",
       "3  교육과학기술부장관 이주호] \"예 어떻든 하여튼 최선 다해서……\"\\n이상민 위원] \"...   \n",
       "4  이상민 위원] \"아니 보세요. 장관님 예산에 대한 조정ㆍ배분권만 갖고 있으면 대한민...   \n",
       "\n",
       "                                          annotation  \n",
       "0  {'summary1': '강 의원은 민간자격증 논란과 관련해 교육부 차원에서 민간자...  \n",
       "1  {'summary1': '교육과학기술부장관 이 씨는 위탁업무이기 때문이라고 말하자 ...  \n",
       "2  {'summary1': '박 위원은 교육부를 해체시켜 연구학습부로 개편하자고 한 장...  \n",
       "3  {'summary1': '컨트롤타워가 누군지 묻는 이 위원의 말에 이 장관은 국과위...  \n",
       "4  {'summary1': '이 위원은 이 정부의 최대 국정 파탄의 예는 과학기술에 대...  "
      ]
     },
     "execution_count": 3,
     "metadata": {},
     "output_type": "execute_result"
    }
   ],
   "source": [
    "with gzip.open(valid_dataset_pattern, 'rb') as f:\n",
    "    val_data = pickle.load(f)\n",
    "\n",
    "val_data.head(5)"
   ]
  },
  {
   "cell_type": "code",
   "execution_count": 4,
   "metadata": {},
   "outputs": [],
   "source": [
    "# pickle load 후 ids, dialogues, summaries로 분리\n",
    "def load_pickle_data(path: str) -> Tuple[List[str], List[List[str]], List[str]]:\n",
    "\n",
    "    with gzip.open(path, \"rb\") as f:\n",
    "        data = pickle.load(f)\n",
    "\n",
    "    ids, dialogues, summaries = [], [], []\n",
    "\n",
    "    ids.extend(data[\"ids\"])\n",
    "\n",
    "    for idx in range(len(data)):\n",
    "        passage = data[\"passage\"][idx]\n",
    "\n",
    "        if data[\"source\"][idx] == \"dacon\":  # dacon\n",
    "            passage = re.sub(r\"\\([^)]*\\)\", \"\", passage)  # 괄호문 제거\n",
    "            dialogues.append(passage.split(\"화자]\"))\n",
    "        elif \"speech\" in data[\"ids\"][idx]:  # report-speech\n",
    "            passage_split = re.split(r\"\\([^)]*\\)|\\<[^>]*\\>\", passage)  # 화자와 발화문 분리 \"(화자) , <화자> 제거\"\n",
    "            splits = []\n",
    "            for i in range(len(passage_split)):\n",
    "                sentence = passage_split[i].strip(\" \")  # 양 쪽 공백 제거\n",
    "                if sentence != \"\":  # 빈 문자열 무시\n",
    "                    splits.append(sentence)\n",
    "            dialogues.append(splits)\n",
    "        else:  # report-minute, broadcast\n",
    "            passage_split = re.split(r\"\\n\", passage)  # 발화문별 분리\n",
    "            splits = []\n",
    "            for i in range(len(passage_split)):\n",
    "                sentence = passage_split[i]\n",
    "                sentence = re.sub(r\"^.*]\", \"\", sentence)  # 화자] 제거\n",
    "                sentence = sentence.strip('\" ')\n",
    "                if sentence != \"\":  # 빈 문자열 무시\n",
    "                    splits.append(sentence)\n",
    "            dialogues.append(splits)\n",
    "\n",
    "    summaries.extend([summary[\"summary1\"] for summary in data[\"annotation\"]])\n",
    "\n",
    "    return ids, dialogues, summaries"
   ]
  },
  {
   "cell_type": "code",
   "execution_count": 5,
   "metadata": {},
   "outputs": [],
   "source": [
    "train_ids, train_dialogues, train_summaries = load_pickle_data(train_dataset_pattern)"
   ]
  },
  {
   "cell_type": "code",
   "execution_count": 6,
   "metadata": {},
   "outputs": [
    {
     "name": "stdout",
     "output_type": "stream",
     "text": [
      "['REPORT-minute-00001-00004', 'REPORT-minute-00001-00006', 'REPORT-minute-00001-00019']\n",
      "['DACON-1462-7', 'DACON-1462-8', 'DACON-1462-9']\n"
     ]
    }
   ],
   "source": [
    "print(train_ids[:3])\n",
    "print(train_ids[-4:-1])"
   ]
  },
  {
   "cell_type": "code",
   "execution_count": 7,
   "metadata": {},
   "outputs": [
    {
     "data": {
      "text/plain": [
       "['수고하셨습니다.   다음은 존경하는 현영희 위원님 인사말씀해 주세요.',\n",
       " '저는 부산 출신이고 비례대표 현영희입니다.  우리 교육이 잘 돼야 나라가 잘됩니다. 아이들 미래의 행복을 위해서 열심히 하겠습니다. 그리고 모두 여야를 떠나서 정말 진정성을 가지고 우리 아이를 위한 토의장이 되었으면 하는 바람입니다.  감사합니다. 열심히 하겠습니다.',\n",
       " '다음은 김태년 위원님 인사 말씀해 주세요.',\n",
       " '반갑습니다. 경기도 성남 수정구 출신 김태년입니다.  4년 만에 상임위원회 회의실에 들어와 봅니다. 17대 때는 주로 경제 파트에서 일을 했었는데요.  교육도 그렇고 과학기술도 그렇고 다 대한민국의 미래와 관련해서 아주 중요한 일들을 한다 이렇게 생각을 합니다. 학부모가 교육비 때문에 고통 받지 않아도 되는 나라 그리고 아이들이 학교 가는 것이 즐거운 그런 대한민국을 만들기 위해서 교육위원으로서 최선을 다해서 노력하겠습니다.  감사합니다.',\n",
       " '감사합니다.   다음 박혜자 위원님께서 인사말씀해 주세요.',\n",
       " '안녕하세요.   저는 광주 서갑의 박혜자입니다.  사실 제가 대학에 한 22년 정도 근무를 했습니다. 그 인연으로 이 자리에 오게 된 것 같습니다. 저는 사실 초선이기 때문에 여러 가지로 배워야 되는 그러한 위치에 있습니다.  그러나 교과위가 무엇보다도 우리 아이들의 미래를 열어가는 장을 만들어 낼 수 있다라는 점에서 제가 열렬하게 이 교과위에 오기를 기대를 했었고요 또 그러한 제 기대가 맞아 떨어져서 여러분과 함께 하게 된 것 같습니다.   배워 가면서 여러분들과 함께 힘을 합쳐서 정말 우리 아이들의 미래를 만드는 일에 힘을 보태고 싶습니다.  감사합니다.']"
      ]
     },
     "execution_count": 7,
     "metadata": {},
     "output_type": "execute_result"
    }
   ],
   "source": [
    "train_dialogues[0]"
   ]
  },
  {
   "cell_type": "code",
   "execution_count": 8,
   "metadata": {},
   "outputs": [
    {
     "data": {
      "text/plain": [
       "['아이들의 미래를 열어가는 장을 만들 수 있는 교과위에 오기를 기대했던 박 위원은 아이들을 위한 일에 힘을 보태고 싶다고 말했다.',\n",
       " '이 위원은 교육과 과학이 국가의 미래이고 서민들의 삶을 결정짓는 중요한 국가적 의제이므로 여야 가리지 않고 위원들과 협조해 성과를 창출하겠다고 했다.',\n",
       " '강 위원은 진보 성향의 교육감을 둔 지역은 공교롭게도 2012년 시ㆍ도 교육청 평가에서 매우 미흡 판정을 받았다고 했다.',\n",
       " '이 교육과학기술부장관은 주 5일제가 잘 정착하기 위해 학교 차원의 배려가 중요하다고 했다.',\n",
       " '김 위원은 야당 국회의원인 시인 도 씨의 작품을 교과서에서 삭제하는 것은 정치적으로 굉장히 민감해지는 사안이라며 장관이 이런 결정에 대한 보고를 못 받을 리 없다고 했다.']"
      ]
     },
     "execution_count": 8,
     "metadata": {},
     "output_type": "execute_result"
    }
   ],
   "source": [
    "train_summaries[:5]"
   ]
  },
  {
   "attachments": {},
   "cell_type": "markdown",
   "metadata": {},
   "source": [
    "### 2. KR-WordRank 적용"
   ]
  },
  {
   "cell_type": "code",
   "execution_count": 9,
   "metadata": {},
   "outputs": [],
   "source": [
    "from krwordrank.word import KRWordRank\n",
    "\n",
    "def extract_keywords(text, min_count=3, max_length=30, verbose=False, beta=0.85, max_iter=30):\n",
    "    wordrank_extractor = KRWordRank(\n",
    "        min_count=min_count,  # 단어의 최소 출현 빈도수 (그래프 생성 시)\n",
    "        max_length=max_length,  # 단어의 최대 길이\n",
    "        verbose=verbose\n",
    "    )\n",
    "    keywords, rank, graph = wordrank_extractor.extract(text, beta, max_iter)\n",
    "\n",
    "    return keywords"
   ]
  },
  {
   "cell_type": "code",
   "execution_count": 10,
   "metadata": {},
   "outputs": [
    {
     "name": "stdout",
     "output_type": "stream",
     "text": [
      "scan vocabs ... \n",
      "num vocabs = 74\n",
      "done = 26 Early stopped.\n"
     ]
    }
   ],
   "source": [
    "wordrank_extractor = KRWordRank(\n",
    "    min_count = 3,\n",
    "    max_length = 30,\n",
    "    verbose = True\n",
    ")\n",
    "\n",
    "beta = 0.85    # PageRank의 decaying factor beta\n",
    "max_iter = 30\n",
    "\n",
    "keywords, rank, graph = wordrank_extractor.extract(train_dialogues[0], beta, max_iter)"
   ]
  },
  {
   "cell_type": "code",
   "execution_count": 11,
   "metadata": {},
   "outputs": [],
   "source": [
    "all_keywords = []\n",
    "temp_train_dialogues = train_dialogues[:2000]\n",
    "\n",
    "for i in range(len(temp_train_dialogues)):\n",
    "    keywords = extract_keywords(temp_train_dialogues[i])\n",
    "    all_keywords.append(keywords)"
   ]
  },
  {
   "cell_type": "code",
   "execution_count": 12,
   "metadata": {},
   "outputs": [],
   "source": [
    "def show_keywords(keywords):\n",
    "    for word, r in sorted(keywords.items(), key=lambda x:x[1], reverse=True)[:30]:\n",
    "        print('%8s:\\t%.4f' % (word, r))"
   ]
  },
  {
   "cell_type": "code",
   "execution_count": 13,
   "metadata": {},
   "outputs": [
    {
     "name": "stdout",
     "output_type": "stream",
     "text": [
      "      이번:\t2.5126\n",
      "      하는:\t1.9509\n",
      "      정말:\t1.7659\n",
      "      그런:\t1.4616\n",
      "      있는:\t0.9092\n",
      "      것도:\t0.7626\n",
      "      북한:\t0.7387\n",
      "      우리:\t0.7015\n",
      "      아니:\t0.3843\n"
     ]
    }
   ],
   "source": [
    "show_keywords(all_keywords[1000])"
   ]
  },
  {
   "cell_type": "code",
   "execution_count": 14,
   "metadata": {},
   "outputs": [
    {
     "name": "stdout",
     "output_type": "stream",
     "text": [
      "      해병:\t4.2395\n",
      "    22사단:\t2.0997\n",
      "      대대:\t1.6116\n",
      "      사실:\t1.4963\n",
      "     2사단:\t1.2934\n",
      "      하는:\t1.2867\n",
      "      부분:\t1.2535\n",
      "      곳이:\t1.1988\n",
      "      열악:\t0.8311\n",
      "      경계:\t0.8259\n",
      "      말씀:\t0.5411\n"
     ]
    }
   ],
   "source": [
    "for word, r in sorted(keywords.items(), key=lambda x:x[1], reverse=True)[:30]:\n",
    "    print('%8s:\\t%.4f' % (word, r))"
   ]
  },
  {
   "cell_type": "code",
   "execution_count": null,
   "metadata": {},
   "outputs": [],
   "source": []
  }
 ],
 "metadata": {
  "kernelspec": {
   "display_name": "mrc",
   "language": "python",
   "name": "python3"
  },
  "language_info": {
   "codemirror_mode": {
    "name": "ipython",
    "version": 3
   },
   "file_extension": ".py",
   "mimetype": "text/x-python",
   "name": "python",
   "nbconvert_exporter": "python",
   "pygments_lexer": "ipython3",
   "version": "3.8.15"
  },
  "orig_nbformat": 4,
  "vscode": {
   "interpreter": {
    "hash": "6433bde22504cbf34326cab27df20b94e196fcf98213f776ce9807cc95ec7583"
   }
  }
 },
 "nbformat": 4,
 "nbformat_minor": 2
}
