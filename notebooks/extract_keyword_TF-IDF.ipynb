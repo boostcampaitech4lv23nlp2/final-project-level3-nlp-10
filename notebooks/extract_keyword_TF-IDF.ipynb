{
 "cells": [
  {
   "attachments": {},
   "cell_type": "markdown",
   "metadata": {},
   "source": [
    "## 0. Import Library"
   ]
  },
  {
   "cell_type": "code",
   "execution_count": 2,
   "metadata": {},
   "outputs": [
    {
     "name": "stderr",
     "output_type": "stream",
     "text": [
      "/opt/anaconda3/envs/chatbot/lib/python3.8/site-packages/pandas/core/computation/expressions.py:20: UserWarning: Pandas requires version '2.7.3' or newer of 'numexpr' (version '2.7.1' currently installed).\n",
      "  from pandas.core.computation.check import NUMEXPR_INSTALLED\n"
     ]
    }
   ],
   "source": [
    "from typing import List\n",
    "\n",
    "import gzip\n",
    "import os\n",
    "import pickle\n",
    "import random\n",
    "import pandas as pd\n",
    "import sklearn\n",
    "from tqdm import tqdm\n",
    "\n",
    "import numpy as np\n",
    "from konlpy.tag import Mecab\n",
    "from sklearn.feature_extraction.text import CountVectorizer, TfidfTransformer"
   ]
  },
  {
   "cell_type": "code",
   "execution_count": 3,
   "metadata": {},
   "outputs": [],
   "source": [
    "def set_seed(self, seed: int = 42):\n",
    "    random.seed(seed)\n",
    "    np.random.seed(seed)\n",
    "    os.environ[\"PYTHONHASHSEED\"] = str(seed)\n",
    "\n",
    "set_seed(42)"
   ]
  },
  {
   "cell_type": "code",
   "execution_count": 4,
   "metadata": {},
   "outputs": [
    {
     "name": "stdout",
     "output_type": "stream",
     "text": [
      "1.5.2\n",
      "1.24.1\n",
      "1.2.0\n",
      "4.0\n"
     ]
    }
   ],
   "source": [
    "print(pd.__version__)\n",
    "print(np.__version__)\n",
    "print(sklearn.__version__)\n",
    "print(pickle.format_version)"
   ]
  },
  {
   "attachments": {},
   "cell_type": "markdown",
   "metadata": {},
   "source": [
    "## 1. load dataset"
   ]
  },
  {
   "cell_type": "code",
   "execution_count": 5,
   "metadata": {},
   "outputs": [],
   "source": [
    "import gzip\n",
    "import pickle\n",
    "\n",
    "train_path = \"../data/train.pickle\"\n",
    "valid_path = \"../data/validation.pickle\"\n",
    "\n",
    "with gzip.open(train_path, 'rb') as f:\n",
    "    train_data = pickle.load(f)\n",
    "\n",
    "with gzip.open(valid_path, 'rb') as f:\n",
    "    valid_data = pickle.load(f)"
   ]
  },
  {
   "cell_type": "code",
   "execution_count": 6,
   "metadata": {},
   "outputs": [
    {
     "data": {
      "text/plain": [
       "(92523, 10700)"
      ]
     },
     "execution_count": 6,
     "metadata": {},
     "output_type": "execute_result"
    }
   ],
   "source": [
    "len(train_data), len(valid_data)"
   ]
  },
  {
   "attachments": {},
   "cell_type": "markdown",
   "metadata": {},
   "source": [
    "## 2. Tokenizing datasets\n",
    "\n",
    "- TF-IDF 계산해서 문서별 top3 키워드 구하기"
   ]
  },
  {
   "cell_type": "code",
   "execution_count": 7,
   "metadata": {},
   "outputs": [],
   "source": [
    "from konlpy.tag import Mecab\n",
    "\n",
    "mecab = Mecab()"
   ]
  },
  {
   "cell_type": "code",
   "execution_count": 8,
   "metadata": {},
   "outputs": [
    {
     "data": {
      "text/plain": [
       "['강 의원은 민간자격증 논란과 관련해 교육부 차원에서 민간자격증 제도에 대한 검정이 필요하다고 했다. ',\n",
       " '교육과학기술부장관 이 씨는 위탁업무이기 때문이라고 말하자 김 위원은 위탁업무여도 어느 정도 사안은 보고 받아야 하지 않냐고 했다.',\n",
       " '박 위원은 교육부를 해체시켜 연구학습부로 개편하자고 한 장관이 교육 자율성에 대한 강한 신념을 갖고 있는 것으로 이해했다.',\n",
       " '컨트롤타워가 누군지 묻는 이 위원의 말에 이 장관은 국과위를 통해 컨트롤타워 기능이 시현된다고 보면 될 것이라고 답했다.',\n",
       " '이 위원은 이 정부의 최대 국정 파탄의 예는 과학기술에 대한 부분으로 그 원인의 제공이 전담 부처나 컨트롤타워가 혼재되어 있다 하자 교육과학기술부장관 이 씨는 그렇지 않다 했다.']"
      ]
     },
     "execution_count": 8,
     "metadata": {},
     "output_type": "execute_result"
    }
   ],
   "source": [
    "summaries = [ann['summary1'] for ann in valid_data['annotation']]\n",
    "summaries[:5]"
   ]
  },
  {
   "cell_type": "code",
   "execution_count": 9,
   "metadata": {},
   "outputs": [
    {
     "name": "stdout",
     "output_type": "stream",
     "text": [
      "강 의원은 민간자격증 논란과 관련해 교육부 차원에서 민간자격증 제도에 대한 검정이 필요하다고 했다. \n",
      "['강', '의원', '민간', '자격증', '논란', '관련', '교육부', '차원', '민간', '자격증', '제도', '검정', '필요']\n"
     ]
    }
   ],
   "source": [
    "print(summaries[0])\n",
    "print(mecab.nouns(summaries[0]))"
   ]
  },
  {
   "attachments": {},
   "cell_type": "markdown",
   "metadata": {},
   "source": [
    "### 1. 경우의 수 정의\n",
    "\n",
    "#### 1. unigram, 명사만 추출할 경우"
   ]
  },
  {
   "cell_type": "code",
   "execution_count": 10,
   "metadata": {},
   "outputs": [
    {
     "name": "stderr",
     "output_type": "stream",
     "text": [
      "/Users/daniel/.local/lib/python3.8/site-packages/sklearn/feature_extraction/text.py:528: UserWarning: The parameter 'token_pattern' will not be used since 'tokenizer' is not None'\n",
      "  warnings.warn(\n"
     ]
    },
    {
     "name": "stdout",
     "output_type": "stream",
     "text": [
      "(10700, 14730)\n",
      "(10700, 14730)\n"
     ]
    }
   ],
   "source": [
    "vectorizer = CountVectorizer(ngram_range=(1,1), tokenizer=lambda x: mecab.nouns(x))  # vectorizer.vocabulary_에 token과 index 정보 저장\n",
    "X = vectorizer.fit_transform(summaries)  # tf matrix 계산\n",
    "\n",
    "transformer = TfidfTransformer()\n",
    "X = transformer.fit_transform(X)\n",
    "print(X.shape)\n",
    "\n",
    "idx = np.argsort(X.toarray(), axis=1)\n",
    "idx2vocab = [vocab for vocab, idx in sorted(vectorizer.vocabulary_.items(), key=lambda x:x[1])]\n",
    "print(idx.shape)"
   ]
  },
  {
   "cell_type": "code",
   "execution_count": 11,
   "metadata": {},
   "outputs": [
    {
     "name": "stdout",
     "output_type": "stream",
     "text": [
      "0번째 문서 : 강 의원은 민간자격증 논란과 관련해 교육부 차원에서 민간자격증 제도에 대한 검정이 필요하다고 했다. \n",
      "0번째 문서의 Top3 단어 : ['자격증', '민간', '검정']\n",
      "\n",
      "1번째 문서 : 교육과학기술부장관 이 씨는 위탁업무이기 때문이라고 말하자 김 위원은 위탁업무여도 어느 정도 사안은 보고 받아야 하지 않냐고 했다.\n",
      "1번째 문서의 Top3 단어 : ['위탁', '업무', '술부']\n",
      "\n",
      "2번째 문서 : 박 위원은 교육부를 해체시켜 연구학습부로 개편하자고 한 장관이 교육 자율성에 대한 강한 신념을 갖고 있는 것으로 이해했다.\n",
      "2번째 문서의 Top3 단어 : ['신념', '해체', '학습']\n",
      "\n",
      "3번째 문서 : 컨트롤타워가 누군지 묻는 이 위원의 말에 이 장관은 국과위를 통해 컨트롤타워 기능이 시현된다고 보면 될 것이라고 답했다.\n",
      "3번째 문서의 Top3 단어 : ['타워', '컨트롤', '누군지']\n",
      "\n",
      "4번째 문서 : 이 위원은 이 정부의 최대 국정 파탄의 예는 과학기술에 대한 부분으로 그 원인의 제공이 전담 부처나 컨트롤타워가 혼재되어 있다 하자 교육과학기술부장관 이 씨는 그렇지 않다 했다.\n",
      "4번째 문서의 Top3 단어 : ['파탄', '혼재', '타워']\n",
      "\n"
     ]
    }
   ],
   "source": [
    "topk = 3\n",
    "\n",
    "for i in range(5):\n",
    "    lst = []\n",
    "    for j in range(topk):\n",
    "        id_ = idx[i][::-1][j]  # np.argsort()의 내림차순 정렬\n",
    "        lst.append(idx2vocab[id_])\n",
    "    print(f\"{i}번째 문서 : {summaries[i]}\")\n",
    "    print(f\"{i}번째 문서의 Top3 단어 : {lst}\\n\")"
   ]
  },
  {
   "attachments": {},
   "cell_type": "markdown",
   "metadata": {},
   "source": [
    "#### 2. unigram, 형태소 추출할 경우"
   ]
  },
  {
   "cell_type": "code",
   "execution_count": 12,
   "metadata": {},
   "outputs": [
    {
     "name": "stdout",
     "output_type": "stream",
     "text": [
      "(10700, 18985)\n",
      "(10700, 18985)\n"
     ]
    }
   ],
   "source": [
    "vectorizer = CountVectorizer(ngram_range=(1,1), tokenizer=lambda x: mecab.morphs(x))  # vectorizer.vocabulary_에 token과 index 정보 저장\n",
    "X = vectorizer.fit_transform(summaries)  # tf matrix 계산\n",
    "\n",
    "transformer = TfidfTransformer()\n",
    "X = transformer.fit_transform(X)\n",
    "print(X.shape)\n",
    "\n",
    "idx = np.argsort(X.toarray(), axis=1)\n",
    "idx2vocab = [vocab for vocab, idx in sorted(vectorizer.vocabulary_.items(), key=lambda x:x[1])]\n",
    "print(idx.shape)"
   ]
  },
  {
   "cell_type": "code",
   "execution_count": 13,
   "metadata": {},
   "outputs": [
    {
     "name": "stdout",
     "output_type": "stream",
     "text": [
      "0번째 문서 : 강 의원은 민간자격증 논란과 관련해 교육부 차원에서 민간자격증 제도에 대한 검정이 필요하다고 했다. \n",
      "0번째 문서의 Top3 단어 : ['자격증', '민간', '검정']\n",
      "\n",
      "1번째 문서 : 교육과학기술부장관 이 씨는 위탁업무이기 때문이라고 말하자 김 위원은 위탁업무여도 어느 정도 사안은 보고 받아야 하지 않냐고 했다.\n",
      "1번째 문서의 Top3 단어 : ['위탁', '업무', '여도']\n",
      "\n",
      "2번째 문서 : 박 위원은 교육부를 해체시켜 연구학습부로 개편하자고 한 장관이 교육 자율성에 대한 강한 신념을 갖고 있는 것으로 이해했다.\n",
      "2번째 문서의 Top3 단어 : ['신념', '해체', '강한']\n",
      "\n",
      "3번째 문서 : 컨트롤타워가 누군지 묻는 이 위원의 말에 이 장관은 국과위를 통해 컨트롤타워 기능이 시현된다고 보면 될 것이라고 답했다.\n",
      "3번째 문서의 Top3 단어 : ['타워', '컨트롤', '누군지']\n",
      "\n",
      "4번째 문서 : 이 위원은 이 정부의 최대 국정 파탄의 예는 과학기술에 대한 부분으로 그 원인의 제공이 전담 부처나 컨트롤타워가 혼재되어 있다 하자 교육과학기술부장관 이 씨는 그렇지 않다 했다.\n",
      "4번째 문서의 Top3 단어 : ['혼재', '파탄', '타워']\n",
      "\n"
     ]
    }
   ],
   "source": [
    "topk = 3\n",
    "\n",
    "for i in range(5):\n",
    "    lst = []\n",
    "    for j in range(topk):\n",
    "        id_ = idx[i][::-1][j]  # np.argsort()의 내림차순 정렬\n",
    "        lst.append(idx2vocab[id_])\n",
    "    print(f\"{i}번째 문서 : {summaries[i]}\")\n",
    "    print(f\"{i}번째 문서의 Top3 단어 : {lst}\\n\")"
   ]
  },
  {
   "attachments": {},
   "cell_type": "markdown",
   "metadata": {},
   "source": [
    "#### 3. bigram, 명사만 추출할 경우"
   ]
  },
  {
   "cell_type": "code",
   "execution_count": 14,
   "metadata": {},
   "outputs": [
    {
     "name": "stdout",
     "output_type": "stream",
     "text": [
      "(10700, 123529)\n",
      "(10700, 123529)\n"
     ]
    }
   ],
   "source": [
    "from sklearn.feature_extraction.text import CountVectorizer\n",
    "from sklearn.feature_extraction.text import TfidfTransformer\n",
    "\n",
    "vectorizer = CountVectorizer(ngram_range=(1,2), tokenizer=lambda x: mecab.nouns(x))  # vectorizer.vocabulary_에 token과 index 정보 저장\n",
    "X = vectorizer.fit_transform(summaries)  # tf matrix 계산\n",
    "\n",
    "transformer = TfidfTransformer()\n",
    "X = transformer.fit_transform(X)\n",
    "print(X.shape)\n",
    "\n",
    "idx = np.argsort(X.toarray(), axis=1)\n",
    "idx2vocab = [vocab for vocab, idx in sorted(vectorizer.vocabulary_.items(), key=lambda x:x[1])]\n",
    "print(idx.shape)"
   ]
  },
  {
   "cell_type": "code",
   "execution_count": 15,
   "metadata": {},
   "outputs": [
    {
     "name": "stdout",
     "output_type": "stream",
     "text": [
      "0번째 문서 : 강 의원은 민간자격증 논란과 관련해 교육부 차원에서 민간자격증 제도에 대한 검정이 필요하다고 했다. \n",
      "0번째 문서의 Top3 단어 : ['민간 자격증', '자격증', '민간']\n",
      "\n",
      "1번째 문서 : 교육과학기술부장관 이 씨는 위탁업무이기 때문이라고 말하자 김 위원은 위탁업무여도 어느 정도 사안은 보고 받아야 하지 않냐고 했다.\n",
      "1번째 문서의 Top3 단어 : ['위탁 업무', '위탁', '업무']\n",
      "\n",
      "2번째 문서 : 박 위원은 교육부를 해체시켜 연구학습부로 개편하자고 한 장관이 교육 자율성에 대한 강한 신념을 갖고 있는 것으로 이해했다.\n",
      "2번째 문서의 Top3 단어 : ['교육부 해체', '개편 장관', '자율 신념']\n",
      "\n",
      "3번째 문서 : 컨트롤타워가 누군지 묻는 이 위원의 말에 이 장관은 국과위를 통해 컨트롤타워 기능이 시현된다고 보면 될 것이라고 답했다.\n",
      "3번째 문서의 Top3 단어 : ['컨트롤 타워', '타워', '컨트롤']\n",
      "\n",
      "4번째 문서 : 이 위원은 이 정부의 최대 국정 파탄의 예는 과학기술에 대한 부분으로 그 원인의 제공이 전담 부처나 컨트롤타워가 혼재되어 있다 하자 교육과학기술부장관 이 씨는 그렇지 않다 했다.\n",
      "4번째 문서의 Top3 단어 : ['타워 혼재', '혼재 교육', '제공 전담']\n",
      "\n"
     ]
    }
   ],
   "source": [
    "topk = 3\n",
    "\n",
    "for i in range(5):\n",
    "    lst = []\n",
    "    for j in range(topk):\n",
    "        id_ = idx[i][::-1][j]  # np.argsort()의 내림차순 정렬\n",
    "        lst.append(idx2vocab[id_])\n",
    "    print(f\"{i}번째 문서 : {summaries[i]}\")\n",
    "    print(f\"{i}번째 문서의 Top3 단어 : {lst}\\n\")"
   ]
  },
  {
   "cell_type": "markdown",
   "metadata": {},
   "source": [
    "#### 4. 복합 명사로 합쳐서 vocab 구성할 경우"
   ]
  },
  {
   "cell_type": "code",
   "execution_count": 16,
   "metadata": {},
   "outputs": [],
   "source": [
    "def add_compound_noun(phrase):\n",
    "    \"\"\"Mecab으로 형태소 분석 후, 명사(일반 명사(NNG), 고유 명사(NNP))가 연속으로 나올 때 복합 명사로 합쳐서 반환\"\"\"\n",
    "    result = []\n",
    "    pos_result = mecab.pos(phrase)\n",
    "    idx = 0\n",
    "    comp_word = \"\"\n",
    "\n",
    "    while idx < len(pos_result):\n",
    "        word, pos = pos_result[idx]\n",
    "        if pos in [\"NNG\", \"NNP\"]:\n",
    "            if comp_word != \"\":\n",
    "                comp_word = f\"{comp_word} {word}\"  # 띄어쓰기로 구분하여 명사 합성\n",
    "            else:\n",
    "                comp_word += word\n",
    "        else:\n",
    "            if comp_word != \"\":\n",
    "                result.append(comp_word)\n",
    "            comp_word = \"\"  # 일반 명사, 고유 명사가 아닌 토큰이 나오면 다시 초기화\n",
    "        idx += 1\n",
    "    return result"
   ]
  },
  {
   "cell_type": "code",
   "execution_count": 17,
   "metadata": {},
   "outputs": [],
   "source": [
    "def extract_compound_noun(phrase):\n",
    "    \"\"\"Mecab으로 형태소 분석 후, 명사(일반 명사(NNG), 고유 명사(NNP))가 연속으로 나올 때 복합 명사로 합쳐서 반환\"\"\"\n",
    "    result = []\n",
    "    pos_result = mecab.pos(phrase)\n",
    "    idx = 0\n",
    "    comp_word = \"\"\n",
    "\n",
    "    while idx < len(pos_result):\n",
    "        word, pos = pos_result[idx]\n",
    "        if pos in [\"NNG\", \"NNP\"]:\n",
    "            if comp_word != \"\":\n",
    "                comp_word = f\"{comp_word} {word}\"  # 띄어쓰기로 구분하여 명사 합성\n",
    "            else:\n",
    "                comp_word += word\n",
    "        else:\n",
    "            if len(comp_word.split(' ')) > 1:\n",
    "                result.append(comp_word)\n",
    "            comp_word = \"\"  # 일반 명사, 고유 명사가 아닌 토큰이 나오면 다시 초기화\n",
    "        idx += 1\n",
    "    return result"
   ]
  },
  {
   "cell_type": "code",
   "execution_count": 18,
   "metadata": {},
   "outputs": [],
   "source": [
    "# Test : 형태소 분석 후 \"명사\"로 추출된 토큰들은 모두 띄어쓰기로 나눠져 있지 않음을 확인\n",
    "for i in summaries:\n",
    "    temp = mecab.nouns(i)\n",
    "    for j in temp:\n",
    "        if len(j.split(\" \")) > 1:\n",
    "            print(i, j)"
   ]
  },
  {
   "cell_type": "code",
   "execution_count": 19,
   "metadata": {},
   "outputs": [
    {
     "data": {
      "text/plain": [
       "['강 의원', '민간 자격증 논란', '관련', '교육부 차원', '민간 자격증 제도', '검정', '필요']"
      ]
     },
     "execution_count": 19,
     "metadata": {},
     "output_type": "execute_result"
    }
   ],
   "source": [
    "add_compound_noun(summaries[0])"
   ]
  },
  {
   "attachments": {},
   "cell_type": "markdown",
   "metadata": {},
   "source": [
    "### 2. train data"
   ]
  },
  {
   "cell_type": "code",
   "execution_count": 20,
   "metadata": {},
   "outputs": [
    {
     "data": {
      "text/html": [
       "<div>\n",
       "<style scoped>\n",
       "    .dataframe tbody tr th:only-of-type {\n",
       "        vertical-align: middle;\n",
       "    }\n",
       "\n",
       "    .dataframe tbody tr th {\n",
       "        vertical-align: top;\n",
       "    }\n",
       "\n",
       "    .dataframe thead th {\n",
       "        text-align: right;\n",
       "    }\n",
       "</style>\n",
       "<table border=\"1\" class=\"dataframe\">\n",
       "  <thead>\n",
       "    <tr style=\"text-align: right;\">\n",
       "      <th></th>\n",
       "      <th>source</th>\n",
       "      <th>ids</th>\n",
       "      <th>passage</th>\n",
       "      <th>annotation</th>\n",
       "    </tr>\n",
       "  </thead>\n",
       "  <tbody>\n",
       "    <tr>\n",
       "      <th>0</th>\n",
       "      <td>report</td>\n",
       "      <td>REPORT-minute-00001-00004</td>\n",
       "      <td>위원장 신학용] \"수고하셨습니다.   다음은 존경하는 현영희 위원님 인사말씀해 주세...</td>\n",
       "      <td>{'summary1': '아이들의 미래를 열어가는 장을 만들 수 있는 교과위에 오기...</td>\n",
       "    </tr>\n",
       "    <tr>\n",
       "      <th>1</th>\n",
       "      <td>report</td>\n",
       "      <td>REPORT-minute-00001-00006</td>\n",
       "      <td>위원장 신학용] \"수고하셨고요.  이상민 위원님 인사말씀해 주세요.\"\\n이상민 위원...</td>\n",
       "      <td>{'summary1': '이 위원은 교육과 과학이 국가의 미래이고 서민들의 삶을 결...</td>\n",
       "    </tr>\n",
       "    <tr>\n",
       "      <th>2</th>\n",
       "      <td>report</td>\n",
       "      <td>REPORT-minute-00001-00019</td>\n",
       "      <td>교육과학기술부장관 이주호] \"96년부터 시행을 하고 있습니다.\"\\n강은희 위원] \"...</td>\n",
       "      <td>{'summary1': '강 위원은 진보 성향의 교육감을 둔 지역은 공교롭게도 20...</td>\n",
       "    </tr>\n",
       "    <tr>\n",
       "      <th>3</th>\n",
       "      <td>report</td>\n",
       "      <td>REPORT-minute-00001-00032</td>\n",
       "      <td>교육과학기술부장관 이주호] \"저희도 그 부분이 굉장히 가장 중요한 부분이라고 생각하...</td>\n",
       "      <td>{'summary1': '이 교육과학기술부장관은 주 5일제가 잘 정착하기 위해 학교...</td>\n",
       "    </tr>\n",
       "    <tr>\n",
       "      <th>4</th>\n",
       "      <td>report</td>\n",
       "      <td>REPORT-minute-00001-00033</td>\n",
       "      <td>교육과학기술부장관 이주호] \"예.\"\\n김상희 위원] \"결정을 해서 지금 이제 권고를...</td>\n",
       "      <td>{'summary1': '김 위원은 야당 국회의원인 시인 도 씨의 작품을 교과서에서...</td>\n",
       "    </tr>\n",
       "  </tbody>\n",
       "</table>\n",
       "</div>"
      ],
      "text/plain": [
       "   source                        ids  \\\n",
       "0  report  REPORT-minute-00001-00004   \n",
       "1  report  REPORT-minute-00001-00006   \n",
       "2  report  REPORT-minute-00001-00019   \n",
       "3  report  REPORT-minute-00001-00032   \n",
       "4  report  REPORT-minute-00001-00033   \n",
       "\n",
       "                                             passage  \\\n",
       "0  위원장 신학용] \"수고하셨습니다.   다음은 존경하는 현영희 위원님 인사말씀해 주세...   \n",
       "1  위원장 신학용] \"수고하셨고요.  이상민 위원님 인사말씀해 주세요.\"\\n이상민 위원...   \n",
       "2  교육과학기술부장관 이주호] \"96년부터 시행을 하고 있습니다.\"\\n강은희 위원] \"...   \n",
       "3  교육과학기술부장관 이주호] \"저희도 그 부분이 굉장히 가장 중요한 부분이라고 생각하...   \n",
       "4  교육과학기술부장관 이주호] \"예.\"\\n김상희 위원] \"결정을 해서 지금 이제 권고를...   \n",
       "\n",
       "                                          annotation  \n",
       "0  {'summary1': '아이들의 미래를 열어가는 장을 만들 수 있는 교과위에 오기...  \n",
       "1  {'summary1': '이 위원은 교육과 과학이 국가의 미래이고 서민들의 삶을 결...  \n",
       "2  {'summary1': '강 위원은 진보 성향의 교육감을 둔 지역은 공교롭게도 20...  \n",
       "3  {'summary1': '이 교육과학기술부장관은 주 5일제가 잘 정착하기 위해 학교...  \n",
       "4  {'summary1': '김 위원은 야당 국회의원인 시인 도 씨의 작품을 교과서에서...  "
      ]
     },
     "execution_count": 20,
     "metadata": {},
     "output_type": "execute_result"
    }
   ],
   "source": [
    "train_data.head()"
   ]
  },
  {
   "cell_type": "code",
   "execution_count": 21,
   "metadata": {},
   "outputs": [
    {
     "data": {
      "text/plain": [
       "['아이들의 미래를 열어가는 장을 만들 수 있는 교과위에 오기를 기대했던 박 위원은 아이들을 위한 일에 힘을 보태고 싶다고 말했다.',\n",
       " '이 위원은 교육과 과학이 국가의 미래이고 서민들의 삶을 결정짓는 중요한 국가적 의제이므로 여야 가리지 않고 위원들과 협조해 성과를 창출하겠다고 했다.',\n",
       " '강 위원은 진보 성향의 교육감을 둔 지역은 공교롭게도 2012년 시ㆍ도 교육청 평가에서 매우 미흡 판정을 받았다고 했다.',\n",
       " '이 교육과학기술부장관은 주 5일제가 잘 정착하기 위해 학교 차원의 배려가 중요하다고 했다.',\n",
       " '김 위원은 야당 국회의원인 시인 도 씨의 작품을 교과서에서 삭제하는 것은 정치적으로 굉장히 민감해지는 사안이라며 장관이 이런 결정에 대한 보고를 못 받을 리 없다고 했다.']"
      ]
     },
     "execution_count": 21,
     "metadata": {},
     "output_type": "execute_result"
    }
   ],
   "source": [
    "summaries = [ann['summary1'] for ann in train_data['annotation']]\n",
    "summaries[:5]"
   ]
  },
  {
   "cell_type": "code",
   "execution_count": 22,
   "metadata": {},
   "outputs": [
    {
     "name": "stdout",
     "output_type": "stream",
     "text": [
      "아이들의 미래를 열어가는 장을 만들 수 있는 교과위에 오기를 기대했던 박 위원은 아이들을 위한 일에 힘을 보태고 싶다고 말했다.\n",
      "['아이', '미래', '장', '수', '교과', '위', '기대', '박', '위원', '아이', '일', '힘', '말']\n"
     ]
    }
   ],
   "source": [
    "print(summaries[0])\n",
    "print(mecab.nouns(summaries[0]))"
   ]
  },
  {
   "cell_type": "code",
   "execution_count": 23,
   "metadata": {},
   "outputs": [
    {
     "name": "stdout",
     "output_type": "stream",
     "text": [
      "69639 에듀 \n",
      "69639 에듀 \n"
     ]
    }
   ],
   "source": [
    "# Test : 형태소 분석 후 \"명사\"로 추출된 토큰들은 모두 띄어쓰기로 나눠져 있지 않음을 확인 (1개 제외)\n",
    "for a, b in enumerate(summaries):\n",
    "    temp = mecab.nouns(b)\n",
    "    for j in temp:\n",
    "        if len(j.split(\" \")) > 1:\n",
    "            print(a, j)"
   ]
  },
  {
   "cell_type": "code",
   "execution_count": 24,
   "metadata": {},
   "outputs": [
    {
     "data": {
      "text/plain": [
       "['에듀 ', '파인', '우려', '제기', '년', '월', '유치원', '도입', '에듀 ', '파인', '사용']"
      ]
     },
     "execution_count": 24,
     "metadata": {},
     "output_type": "execute_result"
    }
   ],
   "source": [
    "# \"에듀\" -> \"에듀 \"로 나눠짐\n",
    "mecab.nouns(train_data.iloc[69639, 3]['summary1'])"
   ]
  },
  {
   "cell_type": "code",
   "execution_count": 25,
   "metadata": {},
   "outputs": [],
   "source": [
    "# Test : summaries 값 중 빈 값이 있는지 확인\n",
    "for t in summaries:\n",
    "    if len(t) == 0:\n",
    "        print(t)"
   ]
  },
  {
   "cell_type": "code",
   "execution_count": 26,
   "metadata": {},
   "outputs": [
    {
     "name": "stderr",
     "output_type": "stream",
     "text": [
      "/Users/daniel/.local/lib/python3.8/site-packages/sklearn/feature_extraction/text.py:528: UserWarning: The parameter 'token_pattern' will not be used since 'tokenizer' is not None'\n",
      "  warnings.warn(\n"
     ]
    },
    {
     "name": "stdout",
     "output_type": "stream",
     "text": [
      "(92523, 144243)\n",
      "(92523, 144243)\n"
     ]
    },
    {
     "name": "stderr",
     "output_type": "stream",
     "text": [
      "100%|██████████| 144243/144243 [00:00<00:00, 1511145.00it/s]\n"
     ]
    }
   ],
   "source": [
    "# vectorizer = CountVectorizer(tokenizer=lambda x: add_compound_noun(x))  # 복합명사 + 명사 : shape : (92523, 169582)\n",
    "vectorizer = CountVectorizer(tokenizer=lambda x: extract_compound_noun(x))  # 복합명사만 : shape : (92523, 144243)\n",
    "# vectorizer = CountVectorizer(tokenizer=lambda x: mecab.nouns(x))  # 명사 : shape : (92523, 36545)\n",
    "X = vectorizer.fit_transform(summaries)  # tf matrix 계산\n",
    "\n",
    "transformer = TfidfTransformer()\n",
    "X = transformer.fit_transform(X)  # tf-idf 계산\n",
    "print(X.shape)\n",
    "\n",
    "idx = np.argsort(X.toarray(), axis=1)\n",
    "print(idx.shape)\n",
    "idx2vocab = [vocab for vocab, idx in tqdm(sorted(vectorizer.vocabulary_.items(), key=lambda x:x[1]))]"
   ]
  },
  {
   "cell_type": "code",
   "execution_count": 27,
   "metadata": {},
   "outputs": [],
   "source": [
    "topk = 3\n",
    "queries = []\n",
    "\n",
    "for i in range(len(summaries)):\n",
    "    lst = []\n",
    "    for j in range(topk):\n",
    "        id_ = idx[i][::-1][j]  # np.argsort()한 결과에 대해 내림차순 정렬\n",
    "        lst.append(idx2vocab[id_])\n",
    "    queries.append(lst)"
   ]
  },
  {
   "cell_type": "code",
   "execution_count": 28,
   "metadata": {},
   "outputs": [
    {
     "data": {
      "text/html": [
       "<div>\n",
       "<style scoped>\n",
       "    .dataframe tbody tr th:only-of-type {\n",
       "        vertical-align: middle;\n",
       "    }\n",
       "\n",
       "    .dataframe tbody tr th {\n",
       "        vertical-align: top;\n",
       "    }\n",
       "\n",
       "    .dataframe thead th {\n",
       "        text-align: right;\n",
       "    }\n",
       "</style>\n",
       "<table border=\"1\" class=\"dataframe\">\n",
       "  <thead>\n",
       "    <tr style=\"text-align: right;\">\n",
       "      <th></th>\n",
       "      <th>source</th>\n",
       "      <th>ids</th>\n",
       "      <th>passage</th>\n",
       "      <th>annotation</th>\n",
       "      <th>query</th>\n",
       "    </tr>\n",
       "  </thead>\n",
       "  <tbody>\n",
       "    <tr>\n",
       "      <th>0</th>\n",
       "      <td>report</td>\n",
       "      <td>REPORT-minute-00001-00004</td>\n",
       "      <td>위원장 신학용] \"수고하셨습니다.   다음은 존경하는 현영희 위원님 인사말씀해 주세...</td>\n",
       "      <td>{'summary1': '아이들의 미래를 열어가는 장을 만들 수 있는 교과위에 오기...</td>\n",
       "      <td>[교과 위, 박 위원, 반탁 운동]</td>\n",
       "    </tr>\n",
       "    <tr>\n",
       "      <th>1</th>\n",
       "      <td>report</td>\n",
       "      <td>REPORT-minute-00001-00006</td>\n",
       "      <td>위원장 신학용] \"수고하셨고요.  이상민 위원님 인사말씀해 주세요.\"\\n이상민 위원...</td>\n",
       "      <td>{'summary1': '이 위원은 교육과 과학이 국가의 미래이고 서민들의 삶을 결...</td>\n",
       "      <td>[힙합 특강, 반쪽 국회 개원, 반출 업무 훈령]</td>\n",
       "    </tr>\n",
       "    <tr>\n",
       "      <th>2</th>\n",
       "      <td>report</td>\n",
       "      <td>REPORT-minute-00001-00019</td>\n",
       "      <td>교육과학기술부장관 이주호] \"96년부터 시행을 하고 있습니다.\"\\n강은희 위원] \"...</td>\n",
       "      <td>{'summary1': '강 위원은 진보 성향의 교육감을 둔 지역은 공교롭게도 20...</td>\n",
       "      <td>[미흡 판정, 교육청 평가, 진보 성향]</td>\n",
       "    </tr>\n",
       "    <tr>\n",
       "      <th>3</th>\n",
       "      <td>report</td>\n",
       "      <td>REPORT-minute-00001-00032</td>\n",
       "      <td>교육과학기술부장관 이주호] \"저희도 그 부분이 굉장히 가장 중요한 부분이라고 생각하...</td>\n",
       "      <td>{'summary1': '이 교육과학기술부장관은 주 5일제가 잘 정착하기 위해 학교...</td>\n",
       "      <td>[학교 차원, 학기 술부 장관, 힙합 특강]</td>\n",
       "    </tr>\n",
       "    <tr>\n",
       "      <th>4</th>\n",
       "      <td>report</td>\n",
       "      <td>REPORT-minute-00001-00033</td>\n",
       "      <td>교육과학기술부장관 이주호] \"예.\"\\n김상희 위원] \"결정을 해서 지금 이제 권고를...</td>\n",
       "      <td>{'summary1': '김 위원은 야당 국회의원인 시인 도 씨의 작품을 교과서에서...</td>\n",
       "      <td>[시인 도, 야당 국회의원, 김 위원]</td>\n",
       "    </tr>\n",
       "  </tbody>\n",
       "</table>\n",
       "</div>"
      ],
      "text/plain": [
       "   source                        ids  \\\n",
       "0  report  REPORT-minute-00001-00004   \n",
       "1  report  REPORT-minute-00001-00006   \n",
       "2  report  REPORT-minute-00001-00019   \n",
       "3  report  REPORT-minute-00001-00032   \n",
       "4  report  REPORT-minute-00001-00033   \n",
       "\n",
       "                                             passage  \\\n",
       "0  위원장 신학용] \"수고하셨습니다.   다음은 존경하는 현영희 위원님 인사말씀해 주세...   \n",
       "1  위원장 신학용] \"수고하셨고요.  이상민 위원님 인사말씀해 주세요.\"\\n이상민 위원...   \n",
       "2  교육과학기술부장관 이주호] \"96년부터 시행을 하고 있습니다.\"\\n강은희 위원] \"...   \n",
       "3  교육과학기술부장관 이주호] \"저희도 그 부분이 굉장히 가장 중요한 부분이라고 생각하...   \n",
       "4  교육과학기술부장관 이주호] \"예.\"\\n김상희 위원] \"결정을 해서 지금 이제 권고를...   \n",
       "\n",
       "                                          annotation  \\\n",
       "0  {'summary1': '아이들의 미래를 열어가는 장을 만들 수 있는 교과위에 오기...   \n",
       "1  {'summary1': '이 위원은 교육과 과학이 국가의 미래이고 서민들의 삶을 결...   \n",
       "2  {'summary1': '강 위원은 진보 성향의 교육감을 둔 지역은 공교롭게도 20...   \n",
       "3  {'summary1': '이 교육과학기술부장관은 주 5일제가 잘 정착하기 위해 학교...   \n",
       "4  {'summary1': '김 위원은 야당 국회의원인 시인 도 씨의 작품을 교과서에서...   \n",
       "\n",
       "                         query  \n",
       "0          [교과 위, 박 위원, 반탁 운동]  \n",
       "1  [힙합 특강, 반쪽 국회 개원, 반출 업무 훈령]  \n",
       "2       [미흡 판정, 교육청 평가, 진보 성향]  \n",
       "3     [학교 차원, 학기 술부 장관, 힙합 특강]  \n",
       "4        [시인 도, 야당 국회의원, 김 위원]  "
      ]
     },
     "execution_count": 28,
     "metadata": {},
     "output_type": "execute_result"
    }
   ],
   "source": [
    "train_data['query'] = queries\n",
    "train_data.head()"
   ]
  },
  {
   "cell_type": "code",
   "execution_count": 29,
   "metadata": {},
   "outputs": [
    {
     "name": "stdout",
     "output_type": "stream",
     "text": [
      "<class 'pandas.core.frame.DataFrame'>\n",
      "RangeIndex: 92523 entries, 0 to 92522\n",
      "Data columns (total 5 columns):\n",
      " #   Column      Non-Null Count  Dtype \n",
      "---  ------      --------------  ----- \n",
      " 0   source      92523 non-null  object\n",
      " 1   ids         92523 non-null  object\n",
      " 2   passage     92523 non-null  object\n",
      " 3   annotation  92523 non-null  object\n",
      " 4   query       92523 non-null  object\n",
      "dtypes: object(5)\n",
      "memory usage: 3.5+ MB\n"
     ]
    }
   ],
   "source": [
    "train_data.info()"
   ]
  },
  {
   "cell_type": "code",
   "execution_count": 30,
   "metadata": {},
   "outputs": [],
   "source": [
    "# Test : 3개의 Query Keyword로 구성되어 있지 않은 게 있는지 확인\n",
    "for a, b in enumerate(train_data['query']):\n",
    "    if len(b) != 3:\n",
    "        print(a, b)"
   ]
  },
  {
   "cell_type": "code",
   "execution_count": 31,
   "metadata": {},
   "outputs": [
    {
     "name": "stdout",
     "output_type": "stream",
     "text": [
      "아이들의 미래를 열어가는 장을 만들 수 있는 교과위에 오기를 기대했던 박 위원은 아이들을 위한 일에 힘을 보태고 싶다고 말했다.\n",
      "['교과 위', '박 위원'] \n",
      "\n",
      "이 위원은 교육과 과학이 국가의 미래이고 서민들의 삶을 결정짓는 중요한 국가적 의제이므로 여야 가리지 않고 위원들과 협조해 성과를 창출하겠다고 했다.\n",
      "[] \n",
      "\n",
      "강 위원은 진보 성향의 교육감을 둔 지역은 공교롭게도 2012년 시ㆍ도 교육청 평가에서 매우 미흡 판정을 받았다고 했다.\n",
      "['강 위원', '진보 성향', '교육청 평가', '미흡 판정'] \n",
      "\n",
      "이 교육과학기술부장관은 주 5일제가 잘 정착하기 위해 학교 차원의 배려가 중요하다고 했다.\n",
      "['학기 술부 장관', '학교 차원'] \n",
      "\n",
      "김 위원은 야당 국회의원인 시인 도 씨의 작품을 교과서에서 삭제하는 것은 정치적으로 굉장히 민감해지는 사안이라며 장관이 이런 결정에 대한 보고를 못 받을 리 없다고 했다.\n",
      "['김 위원', '야당 국회의원', '시인 도'] \n",
      "\n",
      "김 위원은 성 평가원장을 사퇴 조치해 달라고 했고 교육과학기술부장관 이 씨는 지휘 감독의 소홀한 부분에 대해 유감을 표명했다고 말했다.\n",
      "['김 위원', '성 평가 원장', '사퇴 조치', '학기 술부 장관', '지휘 감독'] \n",
      "\n",
      "교육과학기술부장관 이 씨는 교과서가 정치적 중립성이 최대한 보장되어야 하므로 검정을 하는 경우에도 위탁기관이 검정을 하게 되어 있다고 말했다.\n",
      "['학기 술부 장관', '최대한 보장', '위탁 기관'] \n",
      "\n",
      "박 위원은 대구에서 10명의 중학생들이 투신자살을 했음에도 대구교육청은 우수평가를 받아 많은 지원을 받았다며 교육청이 잘 하고 있는 것이냐고 했다.\n",
      "['박 위원', '대구 교육청', '우수 평가'] \n",
      "\n",
      "이 장관이 선관위에 위탁하게 된 과정에 대해 아는 것이 없어 위원들이 질의를 해도 답변을 못한다. \n",
      "[] \n",
      "\n",
      "권고 공문으로 출판사에 간 것은 합격 딱지가 붙어 있으며 수정된 것을 판단하는 것은 나중 문제이다.\n",
      "['권고 공문', '합격 딱지', '나중 문제'] \n",
      "\n"
     ]
    }
   ],
   "source": [
    "for i in summaries[:10]:\n",
    "    print(i)\n",
    "    print(extract_compound_noun(i), '\\n')"
   ]
  },
  {
   "cell_type": "code",
   "execution_count": 32,
   "metadata": {},
   "outputs": [
    {
     "data": {
      "text/plain": [
       "3653"
      ]
     },
     "execution_count": 32,
     "metadata": {},
     "output_type": "execute_result"
    }
   ],
   "source": [
    "null_lst = [\n",
    "    (a, b)\n",
    "    for a, b in enumerate(summaries)\n",
    "    if len(extract_compound_noun(b)) == 0\n",
    "]\n",
    "len(null_lst)"
   ]
  },
  {
   "cell_type": "code",
   "execution_count": 33,
   "metadata": {},
   "outputs": [],
   "source": [
    "with open('train_query.pickle', 'wb') as fw:\n",
    "    pickle.dump(train_data, fw, protocol=pickle.HIGHEST_PROTOCOL)"
   ]
  },
  {
   "attachments": {},
   "cell_type": "markdown",
   "metadata": {},
   "source": [
    "### 3. validation_data"
   ]
  },
  {
   "cell_type": "code",
   "execution_count": 34,
   "metadata": {},
   "outputs": [
    {
     "data": {
      "text/html": [
       "<div>\n",
       "<style scoped>\n",
       "    .dataframe tbody tr th:only-of-type {\n",
       "        vertical-align: middle;\n",
       "    }\n",
       "\n",
       "    .dataframe tbody tr th {\n",
       "        vertical-align: top;\n",
       "    }\n",
       "\n",
       "    .dataframe thead th {\n",
       "        text-align: right;\n",
       "    }\n",
       "</style>\n",
       "<table border=\"1\" class=\"dataframe\">\n",
       "  <thead>\n",
       "    <tr style=\"text-align: right;\">\n",
       "      <th></th>\n",
       "      <th>source</th>\n",
       "      <th>ids</th>\n",
       "      <th>passage</th>\n",
       "      <th>annotation</th>\n",
       "    </tr>\n",
       "  </thead>\n",
       "  <tbody>\n",
       "    <tr>\n",
       "      <th>0</th>\n",
       "      <td>report</td>\n",
       "      <td>REPORT-minute-00001-00021</td>\n",
       "      <td>강은희 위원] \"마지막으로 한 가지 더 여쭙겠습니다.   최근 민간자격증 관해서도 ...</td>\n",
       "      <td>{'summary1': '강 의원은 민간자격증 논란과 관련해 교육부 차원에서 민간자...</td>\n",
       "    </tr>\n",
       "    <tr>\n",
       "      <th>1</th>\n",
       "      <td>report</td>\n",
       "      <td>REPORT-minute-00001-00034</td>\n",
       "      <td>교육과학기술부장관 이주호] \"제가 앞에서도 말씀드렸지만 그게 위탁업무이기 때문에 그...</td>\n",
       "      <td>{'summary1': '교육과학기술부장관 이 씨는 위탁업무이기 때문이라고 말하자 ...</td>\n",
       "    </tr>\n",
       "    <tr>\n",
       "      <th>2</th>\n",
       "      <td>report</td>\n",
       "      <td>REPORT-minute-00001-00045</td>\n",
       "      <td>교육과학기술부장관 이주호] \"예.\"\\n박혜자 위원] \"그 이유는 지역과 학교의 다양...</td>\n",
       "      <td>{'summary1': '박 위원은 교육부를 해체시켜 연구학습부로 개편하자고 한 장...</td>\n",
       "    </tr>\n",
       "    <tr>\n",
       "      <th>3</th>\n",
       "      <td>report</td>\n",
       "      <td>REPORT-minute-00001-00059</td>\n",
       "      <td>교육과학기술부장관 이주호] \"예 어떻든 하여튼 최선 다해서……\"\\n이상민 위원] \"...</td>\n",
       "      <td>{'summary1': '컨트롤타워가 누군지 묻는 이 위원의 말에 이 장관은 국과위...</td>\n",
       "    </tr>\n",
       "    <tr>\n",
       "      <th>4</th>\n",
       "      <td>report</td>\n",
       "      <td>REPORT-minute-00001-00060</td>\n",
       "      <td>이상민 위원] \"아니 보세요. 장관님 예산에 대한 조정ㆍ배분권만 갖고 있으면 대한민...</td>\n",
       "      <td>{'summary1': '이 위원은 이 정부의 최대 국정 파탄의 예는 과학기술에 대...</td>\n",
       "    </tr>\n",
       "  </tbody>\n",
       "</table>\n",
       "</div>"
      ],
      "text/plain": [
       "   source                        ids  \\\n",
       "0  report  REPORT-minute-00001-00021   \n",
       "1  report  REPORT-minute-00001-00034   \n",
       "2  report  REPORT-minute-00001-00045   \n",
       "3  report  REPORT-minute-00001-00059   \n",
       "4  report  REPORT-minute-00001-00060   \n",
       "\n",
       "                                             passage  \\\n",
       "0  강은희 위원] \"마지막으로 한 가지 더 여쭙겠습니다.   최근 민간자격증 관해서도 ...   \n",
       "1  교육과학기술부장관 이주호] \"제가 앞에서도 말씀드렸지만 그게 위탁업무이기 때문에 그...   \n",
       "2  교육과학기술부장관 이주호] \"예.\"\\n박혜자 위원] \"그 이유는 지역과 학교의 다양...   \n",
       "3  교육과학기술부장관 이주호] \"예 어떻든 하여튼 최선 다해서……\"\\n이상민 위원] \"...   \n",
       "4  이상민 위원] \"아니 보세요. 장관님 예산에 대한 조정ㆍ배분권만 갖고 있으면 대한민...   \n",
       "\n",
       "                                          annotation  \n",
       "0  {'summary1': '강 의원은 민간자격증 논란과 관련해 교육부 차원에서 민간자...  \n",
       "1  {'summary1': '교육과학기술부장관 이 씨는 위탁업무이기 때문이라고 말하자 ...  \n",
       "2  {'summary1': '박 위원은 교육부를 해체시켜 연구학습부로 개편하자고 한 장...  \n",
       "3  {'summary1': '컨트롤타워가 누군지 묻는 이 위원의 말에 이 장관은 국과위...  \n",
       "4  {'summary1': '이 위원은 이 정부의 최대 국정 파탄의 예는 과학기술에 대...  "
      ]
     },
     "execution_count": 34,
     "metadata": {},
     "output_type": "execute_result"
    }
   ],
   "source": [
    "valid_data.head()"
   ]
  },
  {
   "cell_type": "code",
   "execution_count": 35,
   "metadata": {},
   "outputs": [
    {
     "data": {
      "text/plain": [
       "['강 의원은 민간자격증 논란과 관련해 교육부 차원에서 민간자격증 제도에 대한 검정이 필요하다고 했다. ',\n",
       " '교육과학기술부장관 이 씨는 위탁업무이기 때문이라고 말하자 김 위원은 위탁업무여도 어느 정도 사안은 보고 받아야 하지 않냐고 했다.',\n",
       " '박 위원은 교육부를 해체시켜 연구학습부로 개편하자고 한 장관이 교육 자율성에 대한 강한 신념을 갖고 있는 것으로 이해했다.',\n",
       " '컨트롤타워가 누군지 묻는 이 위원의 말에 이 장관은 국과위를 통해 컨트롤타워 기능이 시현된다고 보면 될 것이라고 답했다.',\n",
       " '이 위원은 이 정부의 최대 국정 파탄의 예는 과학기술에 대한 부분으로 그 원인의 제공이 전담 부처나 컨트롤타워가 혼재되어 있다 하자 교육과학기술부장관 이 씨는 그렇지 않다 했다.']"
      ]
     },
     "execution_count": 35,
     "metadata": {},
     "output_type": "execute_result"
    }
   ],
   "source": [
    "summaries = [ann['summary1'] for ann in valid_data['annotation']]\n",
    "summaries[:5]"
   ]
  },
  {
   "cell_type": "code",
   "execution_count": 36,
   "metadata": {},
   "outputs": [],
   "source": [
    "# Test : summaries 값 중 빈 값이 있는지 확인\n",
    "for t in summaries:\n",
    "    if len(t) == 0:\n",
    "        print(t)"
   ]
  },
  {
   "cell_type": "code",
   "execution_count": 37,
   "metadata": {},
   "outputs": [],
   "source": [
    "# Test : 형태소 분석 후 명사로 추출된 토큰들은 1개를 제외하고 모두 띄어쓰기로 나눠져 있지 않음을 확인\n",
    "for a, b in enumerate(summaries):\n",
    "    temp = mecab.nouns(b)\n",
    "    for j in temp:\n",
    "        if len(j.split(\" \")) > 1:\n",
    "            print(a, j)"
   ]
  },
  {
   "cell_type": "code",
   "execution_count": 38,
   "metadata": {},
   "outputs": [
    {
     "name": "stderr",
     "output_type": "stream",
     "text": [
      "/Users/daniel/.local/lib/python3.8/site-packages/sklearn/feature_extraction/text.py:528: UserWarning: The parameter 'token_pattern' will not be used since 'tokenizer' is not None'\n",
      "  warnings.warn(\n"
     ]
    },
    {
     "name": "stdout",
     "output_type": "stream",
     "text": [
      "(10700, 22781)\n",
      "(10700, 22781)\n"
     ]
    },
    {
     "name": "stderr",
     "output_type": "stream",
     "text": [
      "100%|██████████| 22781/22781 [00:00<00:00, 1932732.70it/s]\n"
     ]
    }
   ],
   "source": [
    "# vectorizer = CountVectorizer(tokenizer=lambda x: add_compound_noun(x))  # 복합명사 + 명사 : shape : (92523, 169582)\n",
    "vectorizer = CountVectorizer(tokenizer=lambda x: extract_compound_noun(x))  # 복합명사만 : shape : (92523, 144243)\n",
    "# vectorizer = CountVectorizer(tokenizer=lambda x: mecab.nouns(x))  # 명사 : shape : (92523, 36545)\n",
    "X = vectorizer.fit_transform(summaries)  # tf matrix 계산\n",
    "\n",
    "transformer = TfidfTransformer()\n",
    "X = transformer.fit_transform(X)  # tf-idf 계산\n",
    "print(X.shape)\n",
    "\n",
    "idx = np.argsort(X.toarray(), axis=1)\n",
    "print(idx.shape)\n",
    "idx2vocab = [vocab for vocab, idx in tqdm(sorted(vectorizer.vocabulary_.items(), key=lambda x:x[1]))]"
   ]
  },
  {
   "cell_type": "code",
   "execution_count": 39,
   "metadata": {},
   "outputs": [],
   "source": [
    "topk = 3\n",
    "queries = []\n",
    "\n",
    "for i in range(len(summaries)):\n",
    "    lst = []\n",
    "    for j in range(topk):\n",
    "        id_ = idx[i][::-1][j]  # np.argsort()한 결과에 대해 내림차순 정렬\n",
    "        lst.append(idx2vocab[id_])\n",
    "    queries.append(lst)"
   ]
  },
  {
   "cell_type": "code",
   "execution_count": 40,
   "metadata": {},
   "outputs": [
    {
     "data": {
      "text/html": [
       "<div>\n",
       "<style scoped>\n",
       "    .dataframe tbody tr th:only-of-type {\n",
       "        vertical-align: middle;\n",
       "    }\n",
       "\n",
       "    .dataframe tbody tr th {\n",
       "        vertical-align: top;\n",
       "    }\n",
       "\n",
       "    .dataframe thead th {\n",
       "        text-align: right;\n",
       "    }\n",
       "</style>\n",
       "<table border=\"1\" class=\"dataframe\">\n",
       "  <thead>\n",
       "    <tr style=\"text-align: right;\">\n",
       "      <th></th>\n",
       "      <th>source</th>\n",
       "      <th>ids</th>\n",
       "      <th>passage</th>\n",
       "      <th>annotation</th>\n",
       "      <th>query</th>\n",
       "    </tr>\n",
       "  </thead>\n",
       "  <tbody>\n",
       "    <tr>\n",
       "      <th>0</th>\n",
       "      <td>report</td>\n",
       "      <td>REPORT-minute-00001-00021</td>\n",
       "      <td>강은희 위원] \"마지막으로 한 가지 더 여쭙겠습니다.   최근 민간자격증 관해서도 ...</td>\n",
       "      <td>{'summary1': '강 의원은 민간자격증 논란과 관련해 교육부 차원에서 민간자...</td>\n",
       "      <td>[민간 자격증 논란, 민간 자격증 제도, 교육부 차원]</td>\n",
       "    </tr>\n",
       "    <tr>\n",
       "      <th>1</th>\n",
       "      <td>report</td>\n",
       "      <td>REPORT-minute-00001-00034</td>\n",
       "      <td>교육과학기술부장관 이주호] \"제가 앞에서도 말씀드렸지만 그게 위탁업무이기 때문에 그...</td>\n",
       "      <td>{'summary1': '교육과학기술부장관 이 씨는 위탁업무이기 때문이라고 말하자 ...</td>\n",
       "      <td>[위탁 업무, 정도 사안, 학기 술부 장관]</td>\n",
       "    </tr>\n",
       "    <tr>\n",
       "      <th>2</th>\n",
       "      <td>report</td>\n",
       "      <td>REPORT-minute-00001-00045</td>\n",
       "      <td>교육과학기술부장관 이주호] \"예.\"\\n박혜자 위원] \"그 이유는 지역과 학교의 다양...</td>\n",
       "      <td>{'summary1': '박 위원은 교육부를 해체시켜 연구학습부로 개편하자고 한 장...</td>\n",
       "      <td>[연구 학습 부, 교육 자율, 박 위원]</td>\n",
       "    </tr>\n",
       "    <tr>\n",
       "      <th>3</th>\n",
       "      <td>report</td>\n",
       "      <td>REPORT-minute-00001-00059</td>\n",
       "      <td>교육과학기술부장관 이주호] \"예 어떻든 하여튼 최선 다해서……\"\\n이상민 위원] \"...</td>\n",
       "      <td>{'summary1': '컨트롤타워가 누군지 묻는 이 위원의 말에 이 장관은 국과위...</td>\n",
       "      <td>[컨트롤 타워 기능, 국과 위, 컨트롤 타워]</td>\n",
       "    </tr>\n",
       "    <tr>\n",
       "      <th>4</th>\n",
       "      <td>report</td>\n",
       "      <td>REPORT-minute-00001-00060</td>\n",
       "      <td>이상민 위원] \"아니 보세요. 장관님 예산에 대한 조정ㆍ배분권만 갖고 있으면 대한민...</td>\n",
       "      <td>{'summary1': '이 위원은 이 정부의 최대 국정 파탄의 예는 과학기술에 대...</td>\n",
       "      <td>[최대 국정 파탄, 전담 부처, 과학 기술]</td>\n",
       "    </tr>\n",
       "  </tbody>\n",
       "</table>\n",
       "</div>"
      ],
      "text/plain": [
       "   source                        ids  \\\n",
       "0  report  REPORT-minute-00001-00021   \n",
       "1  report  REPORT-minute-00001-00034   \n",
       "2  report  REPORT-minute-00001-00045   \n",
       "3  report  REPORT-minute-00001-00059   \n",
       "4  report  REPORT-minute-00001-00060   \n",
       "\n",
       "                                             passage  \\\n",
       "0  강은희 위원] \"마지막으로 한 가지 더 여쭙겠습니다.   최근 민간자격증 관해서도 ...   \n",
       "1  교육과학기술부장관 이주호] \"제가 앞에서도 말씀드렸지만 그게 위탁업무이기 때문에 그...   \n",
       "2  교육과학기술부장관 이주호] \"예.\"\\n박혜자 위원] \"그 이유는 지역과 학교의 다양...   \n",
       "3  교육과학기술부장관 이주호] \"예 어떻든 하여튼 최선 다해서……\"\\n이상민 위원] \"...   \n",
       "4  이상민 위원] \"아니 보세요. 장관님 예산에 대한 조정ㆍ배분권만 갖고 있으면 대한민...   \n",
       "\n",
       "                                          annotation  \\\n",
       "0  {'summary1': '강 의원은 민간자격증 논란과 관련해 교육부 차원에서 민간자...   \n",
       "1  {'summary1': '교육과학기술부장관 이 씨는 위탁업무이기 때문이라고 말하자 ...   \n",
       "2  {'summary1': '박 위원은 교육부를 해체시켜 연구학습부로 개편하자고 한 장...   \n",
       "3  {'summary1': '컨트롤타워가 누군지 묻는 이 위원의 말에 이 장관은 국과위...   \n",
       "4  {'summary1': '이 위원은 이 정부의 최대 국정 파탄의 예는 과학기술에 대...   \n",
       "\n",
       "                            query  \n",
       "0  [민간 자격증 논란, 민간 자격증 제도, 교육부 차원]  \n",
       "1        [위탁 업무, 정도 사안, 학기 술부 장관]  \n",
       "2          [연구 학습 부, 교육 자율, 박 위원]  \n",
       "3       [컨트롤 타워 기능, 국과 위, 컨트롤 타워]  \n",
       "4        [최대 국정 파탄, 전담 부처, 과학 기술]  "
      ]
     },
     "execution_count": 40,
     "metadata": {},
     "output_type": "execute_result"
    }
   ],
   "source": [
    "valid_data['query'] = queries\n",
    "valid_data.head()"
   ]
  },
  {
   "cell_type": "code",
   "execution_count": 41,
   "metadata": {},
   "outputs": [
    {
     "name": "stdout",
     "output_type": "stream",
     "text": [
      "<class 'pandas.core.frame.DataFrame'>\n",
      "RangeIndex: 10700 entries, 0 to 10699\n",
      "Data columns (total 5 columns):\n",
      " #   Column      Non-Null Count  Dtype \n",
      "---  ------      --------------  ----- \n",
      " 0   source      10700 non-null  object\n",
      " 1   ids         10700 non-null  object\n",
      " 2   passage     10700 non-null  object\n",
      " 3   annotation  10700 non-null  object\n",
      " 4   query       10700 non-null  object\n",
      "dtypes: object(5)\n",
      "memory usage: 418.1+ KB\n"
     ]
    }
   ],
   "source": [
    "valid_data.info()"
   ]
  },
  {
   "cell_type": "code",
   "execution_count": 42,
   "metadata": {},
   "outputs": [
    {
     "data": {
      "text/plain": [
       "0                [민간 자격증 논란, 민간 자격증 제도, 교육부 차원]\n",
       "1                      [위탁 업무, 정도 사안, 학기 술부 장관]\n",
       "2                        [연구 학습 부, 교육 자율, 박 위원]\n",
       "3                     [컨트롤 타워 기능, 국과 위, 컨트롤 타워]\n",
       "4                      [최대 국정 파탄, 전담 부처, 과학 기술]\n",
       "                          ...                  \n",
       "10695           [힙합 곡인 디지털 싱글, 박용진 의원, 반 부패 정책]\n",
       "10696           [힙합 곡인 디지털 싱글, 박용진 의원, 반 부패 정책]\n",
       "10697    [올림픽 양궁 선수 김제덕, 예능 프로그램, 힙합 곡인 디지털 싱글]\n",
       "10698           [힙합 곡인 디지털 싱글, 박용진 의원, 반 부패 정책]\n",
       "10699                   [아들 젠, 레이먼킴 가족, 해피 선데이]\n",
       "Name: query, Length: 10700, dtype: object"
      ]
     },
     "execution_count": 42,
     "metadata": {},
     "output_type": "execute_result"
    }
   ],
   "source": [
    "valid_query_series = valid_data['query']\n",
    "valid_query_series"
   ]
  },
  {
   "cell_type": "code",
   "execution_count": 43,
   "metadata": {},
   "outputs": [],
   "source": [
    "# Test : 3개의 Query Keyword로 구성되어 있지 않은 게 있는지 확인\n",
    "for a, b in enumerate(valid_query_series):\n",
    "    if len(b) != 3:\n",
    "        print(a, b)"
   ]
  },
  {
   "cell_type": "code",
   "execution_count": 44,
   "metadata": {},
   "outputs": [],
   "source": [
    "with open('valid_query.pickle', 'wb') as fw:\n",
    "    pickle.dump(valid_data, fw, protocol=pickle.HIGHEST_PROTOCOL)"
   ]
  },
  {
   "cell_type": "code",
   "execution_count": null,
   "metadata": {},
   "outputs": [],
   "source": []
  }
 ],
 "metadata": {
  "kernelspec": {
   "display_name": "mrc",
   "language": "python",
   "name": "python3"
  },
  "language_info": {
   "codemirror_mode": {
    "name": "ipython",
    "version": 3
   },
   "file_extension": ".py",
   "mimetype": "text/x-python",
   "name": "python",
   "nbconvert_exporter": "python",
   "pygments_lexer": "ipython3",
   "version": "3.8.15"
  },
  "orig_nbformat": 4,
  "vscode": {
   "interpreter": {
    "hash": "6433bde22504cbf34326cab27df20b94e196fcf98213f776ce9807cc95ec7583"
   }
  }
 },
 "nbformat": 4,
 "nbformat_minor": 2
}
