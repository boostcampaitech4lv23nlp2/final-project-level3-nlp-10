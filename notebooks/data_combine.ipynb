{
 "cells": [
  {
   "cell_type": "code",
   "execution_count": 221,
   "id": "c1833cb8-7528-4ae5-9487-937526126b58",
   "metadata": {},
   "outputs": [
    {
     "name": "stdout",
     "output_type": "stream",
     "text": [
      "===== train =====\n",
      "report : 59200\n",
      "dacon : 22\n",
      "broadcast : 30329\n",
      "=== validation ===\n",
      "report : 7400\n",
      "broadcast : 3300\n"
     ]
    }
   ],
   "source": [
    "import json\n",
    "import pandas as pd\n",
    "import pickle, gzip\n",
    "from glob import glob\n",
    "\n",
    "# 파일 경로 : ex) train/report/05.minute/20per/files.json\n",
    "train_report_paths = sorted(glob(\"train/report/*/*/*.json\"))\n",
    "train_dacon_paths = \"train/dacon/train.json\"\n",
    "train_broadcast_paths = sorted(glob(\"train/broadcast/*/*/*.json\"))\n",
    "\n",
    "val_report_paths = sorted(glob(\"validation/report/*/*/*.json\"))\n",
    "val_broadcast_paths = sorted(glob(\"validation/broadcast/*/*/*.json\"))\n",
    "print(\"===== train =====\")\n",
    "print(\"report :\", len(train_report_paths))\n",
    "print(\"dacon :\", len(train_dacon_paths))\n",
    "print(\"broadcast :\", len(train_broadcast_paths))\n",
    "print(\"=== validation ===\")\n",
    "print(\"report :\", len(val_report_paths))\n",
    "print(\"broadcast :\", len(val_broadcast_paths))"
   ]
  },
  {
   "cell_type": "markdown",
   "id": "4619780d-9f13-48ec-8388-e8bb77cc8892",
   "metadata": {},
   "source": [
    "# report"
   ]
  },
  {
   "cell_type": "code",
   "execution_count": 208,
   "id": "269365df-efed-4195-93a0-4e75094c3fb5",
   "metadata": {},
   "outputs": [],
   "source": [
    "train_ids = []\n",
    "train_passage = []\n",
    "train_annotation = []\n",
    "train_source = []\n",
    "\n",
    "val_ids = []\n",
    "val_passage = []\n",
    "val_annotation = []\n",
    "val_source = []"
   ]
  },
  {
   "cell_type": "code",
   "execution_count": 209,
   "id": "8a7bab34-75dd-4e5c-9cfc-cdbb94c4893b",
   "metadata": {},
   "outputs": [
    {
     "data": {
      "text/plain": [
       "['train/report/05.minute/20per/REPORT-minute-00001-00004.json',\n",
       " 'train/report/05.minute/20per/REPORT-minute-00001-00006.json',\n",
       " 'train/report/05.minute/20per/REPORT-minute-00001-00019.json']"
      ]
     },
     "metadata": {},
     "output_type": "display_data"
    },
    {
     "data": {
      "text/plain": [
       "['train/report/08.speech/2~3sent/REPORT-speech-16815-00005.json',\n",
       " 'train/report/08.speech/2~3sent/REPORT-speech-16817-00002.json',\n",
       " 'train/report/08.speech/2~3sent/REPORT-speech-16819-00001.json']"
      ]
     },
     "metadata": {},
     "output_type": "display_data"
    },
    {
     "data": {
      "text/plain": [
       "['validation/report/05.minute/20per/REPORT-minute-00001-00021.json',\n",
       " 'validation/report/05.minute/20per/REPORT-minute-00001-00034.json',\n",
       " 'validation/report/05.minute/20per/REPORT-minute-00001-00045.json']"
      ]
     },
     "metadata": {},
     "output_type": "display_data"
    },
    {
     "data": {
      "text/plain": [
       "['validation/report/08.speech/2~3sent/REPORT-speech-16788-00003.json',\n",
       " 'validation/report/08.speech/2~3sent/REPORT-speech-16791-00006.json',\n",
       " 'validation/report/08.speech/2~3sent/REPORT-speech-16792-00001.json']"
      ]
     },
     "metadata": {},
     "output_type": "display_data"
    }
   ],
   "source": [
    "display(train_report_paths[0:3])\n",
    "display(train_report_paths[-4:-1])\n",
    "display(val_report_paths[0:3])\n",
    "display(val_report_paths[-4:-1])"
   ]
  },
  {
   "cell_type": "code",
   "execution_count": 210,
   "id": "7942d091-a632-4b05-a959-59b3f649e719",
   "metadata": {},
   "outputs": [
    {
     "data": {
      "text/plain": [
       "{'Meta(Acqusition)': {'doc_id': 'REPORT-minute-00001',\n",
       "  'doc_category': 'REPORT',\n",
       "  'doc_type': 'minute',\n",
       "  'doc_name': '제19대 국회 교육과학기술위원회 회의록 데이터셋_16481.csv',\n",
       "  'author': None,\n",
       "  'publisher': None,\n",
       "  'publisher_year': None,\n",
       "  'doc_origin': '국회도서관 포털'},\n",
       " 'Meta(Refine)': {'passage_id': 'REPORT-minute-00001-00004',\n",
       "  'passage': '위원장 신학용] \"수고하셨습니다.   다음은 존경하는 현영희 위원님 인사말씀해 주세요.\"\\n현영희 위원] \"저는 부산 출신이고 비례대표 현영희입니다.  우리 교육이 잘 돼야 나라가 잘됩니다. 아이들 미래의 행복을 위해서 열심히 하겠습니다. 그리고 모두 여야를 떠나서 정말 진정성을 가지고 우리 아이를 위한 토의장이 되었으면 하는 바람입니다.  감사합니다. 열심히 하겠습니다.\"\\n위원장 신학용] \"다음은 김태년 위원님 인사 말씀해 주세요.\"\\n김태년 위원] \"반갑습니다. 경기도 성남 수정구 출신 김태년입니다.  4년 만에 상임위원회 회의실에 들어와 봅니다. 17대 때는 주로 경제 파트에서 일을 했었는데요.  교육도 그렇고 과학기술도 그렇고 다 대한민국의 미래와 관련해서 아주 중요한 일들을 한다 이렇게 생각을 합니다. 학부모가 교육비 때문에 고통 받지 않아도 되는 나라 그리고 아이들이 학교 가는 것이 즐거운 그런 대한민국을 만들기 위해서 교육위원으로서 최선을 다해서 노력하겠습니다.  감사합니다.\"\\n위원장 신학용] \"감사합니다.   다음 박혜자 위원님께서 인사말씀해 주세요.\"\\n박혜자 위원] \"안녕하세요.   저는 광주 서갑의 박혜자입니다.  사실 제가 대학에 한 22년 정도 근무를 했습니다. 그 인연으로 이 자리에 오게 된 것 같습니다. 저는 사실 초선이기 때문에 여러 가지로 배워야 되는 그러한 위치에 있습니다.  그러나 교과위가 무엇보다도 우리 아이들의 미래를 열어가는 장을 만들어 낼 수 있다라는 점에서 제가 열렬하게 이 교과위에 오기를 기대를 했었고요 또 그러한 제 기대가 맞아 떨어져서 여러분과 함께 하게 된 것 같습니다.   배워 가면서 여러분들과 함께 힘을 합쳐서 정말 우리 아이들의 미래를 만드는 일에 힘을 보태고 싶습니다.  감사합니다.\"\\n',\n",
       "  'passage_Cnt': 873},\n",
       " 'Annotation': {'summary1': '아이들의 미래를 열어가는 장을 만들 수 있는 교과위에 오기를 기대했던 박 위원은 아이들을 위한 일에 힘을 보태고 싶다고 말했다.',\n",
       "  'summary2': None,\n",
       "  'summary3': '박혜자 위원] \"안녕하세요. 저는 광주 서갑의 박혜자입니다. 그러나 교과위가 무엇보다도 우리 아이들의 미래를 열어가는 장을 만들어 낼 수 있다라는 점에서 제가 열렬하게 이 교과위에 오기를 기대를 했었고요 또 그러한 제 기대가 맞아 떨어져서 여러분과 함께 하게 된 것 같습니다. 배워 가면서 여러분들과 함께 힘을 합쳐서 정말 우리 아이들의 미래를 만드는 일에 힘을 보태고 싶습니다.',\n",
       "  'summary_3_cnt': 214}}"
      ]
     },
     "execution_count": 210,
     "metadata": {},
     "output_type": "execute_result"
    }
   ],
   "source": [
    "with open(train_report_paths[0]) as f:\n",
    "    tmp = json.loads(f.read())\n",
    "tmp"
   ]
  },
  {
   "cell_type": "code",
   "execution_count": 211,
   "id": "a3ea43b4-ec5c-4f06-a873-a1029c7c9bb9",
   "metadata": {},
   "outputs": [
    {
     "name": "stdout",
     "output_type": "stream",
     "text": [
      "report\n",
      "REPORT-minute-00001-00004\n",
      "위원장 신학용] \"수고하셨습니다.   다음은 존경하는 현영희 위원님 인사말씀해 주세요.\"\n",
      "현영희 위원] \"저는 부산 출신이고 비례대표 현영희입니다.  우리 교육이 잘 돼야 나라가 잘됩니다. 아이들 미래의 행복을 위해서 열심히 하겠습니다. 그리고 모두 여야를 떠나서 정말 진정성을 가지고 우리 아이를 위한 토의장이 되었으면 하는 바람입니다.  감사합니다. 열심히 하겠습니다.\"\n",
      "위원장 신학용] \"다음은 김태년 위원님 인사 말씀해 주세요.\"\n",
      "김태년 위원] \"반갑습니다. 경기도 성남 수정구 출신 김태년입니다.  4년 만에 상임위원회 회의실에 들어와 봅니다. 17대 때는 주로 경제 파트에서 일을 했었는데요.  교육도 그렇고 과학기술도 그렇고 다 대한민국의 미래와 관련해서 아주 중요한 일들을 한다 이렇게 생각을 합니다. 학부모가 교육비 때문에 고통 받지 않아도 되는 나라 그리고 아이들이 학교 가는 것이 즐거운 그런 대한민국을 만들기 위해서 교육위원으로서 최선을 다해서 노력하겠습니다.  감사합니다.\"\n",
      "위원장 신학용] \"감사합니다.   다음 박혜자 위원님께서 인사말씀해 주세요.\"\n",
      "박혜자 위원] \"안녕하세요.   저는 광주 서갑의 박혜자입니다.  사실 제가 대학에 한 22년 정도 근무를 했습니다. 그 인연으로 이 자리에 오게 된 것 같습니다. 저는 사실 초선이기 때문에 여러 가지로 배워야 되는 그러한 위치에 있습니다.  그러나 교과위가 무엇보다도 우리 아이들의 미래를 열어가는 장을 만들어 낼 수 있다라는 점에서 제가 열렬하게 이 교과위에 오기를 기대를 했었고요 또 그러한 제 기대가 맞아 떨어져서 여러분과 함께 하게 된 것 같습니다.   배워 가면서 여러분들과 함께 힘을 합쳐서 정말 우리 아이들의 미래를 만드는 일에 힘을 보태고 싶습니다.  감사합니다.\"\n",
      "\n",
      "{'summary1': '아이들의 미래를 열어가는 장을 만들 수 있는 교과위에 오기를 기대했던 박 위원은 아이들을 위한 일에 힘을 보태고 싶다고 말했다.', 'summary2': None, 'summary3': '박혜자 위원] \"안녕하세요. 저는 광주 서갑의 박혜자입니다. 그러나 교과위가 무엇보다도 우리 아이들의 미래를 열어가는 장을 만들어 낼 수 있다라는 점에서 제가 열렬하게 이 교과위에 오기를 기대를 했었고요 또 그러한 제 기대가 맞아 떨어져서 여러분과 함께 하게 된 것 같습니다. 배워 가면서 여러분들과 함께 힘을 합쳐서 정말 우리 아이들의 미래를 만드는 일에 힘을 보태고 싶습니다.', 'summary_3_cnt': 214}\n"
     ]
    }
   ],
   "source": [
    "for file in train_report_paths:\n",
    "    with open(file) as f:\n",
    "        js = json.loads(f.read())\n",
    "    \n",
    "    train_source.append(\"report\")\n",
    "    train_ids.append(js[\"Meta(Refine)\"][\"passage_id\"])\n",
    "    train_passage.append(js[\"Meta(Refine)\"][\"passage\"])\n",
    "    train_annotation.append(js[\"Annotation\"])\n",
    "\n",
    "for file in val_report_paths:\n",
    "    with open(file) as f:\n",
    "        js = json.loads(f.read())\n",
    "    \n",
    "    val_source.append(\"report\")\n",
    "    val_ids.append(js[\"Meta(Refine)\"][\"passage_id\"])\n",
    "    val_passage.append(js[\"Meta(Refine)\"][\"passage\"])\n",
    "    val_annotation.append(js[\"Annotation\"])    \n",
    "    \n",
    "print(train_source[0])\n",
    "print(train_ids[0])\n",
    "print(train_passage[0])\n",
    "print(train_annotation[0])"
   ]
  },
  {
   "cell_type": "markdown",
   "id": "db8fd4ab-150a-4901-905a-8af8b82fe880",
   "metadata": {
    "tags": []
   },
   "source": [
    "# broadcast"
   ]
  },
  {
   "cell_type": "code",
   "execution_count": 212,
   "id": "13e42920-23b9-4ccb-983f-11486e9dcec7",
   "metadata": {},
   "outputs": [
    {
     "name": "stdout",
     "output_type": "stream",
     "text": [
      "broadcast\n",
      "SCRIPT-enter-37640-00001\n",
      "화자1]프로미스나인 ⓒ플레디스엔터테인먼트 제공.\n",
      "화자2]프로미스나인은 오는 09월 01일 스페셜 싱글 앨범 ‘Talk & Talk’(톡앤톡)를 발매합니다. 지난 5월 두 번째 싱글 앨범 ‘9 WAY TICKET’ 이후 약 4개월 만에 ‘초고속 컴백’를 확정 지었으며 플레디스 엔터테인먼트 이적 후 첫 컴백으로 글로벌 팬들의 열띤 반응를 얻고 있습니다.\n",
      "화자1]프로미스나인은 올여름 전작 타이틀곡 ‘WE GO’로 잊지 못할 여행의 추억를 선물하며 ‘리프레시 메이트’로 활약했습니다. 무더위도 잊게 한 프로미스나인만의 밝고 건강한 매력과 중독성 넘치는 무대가 음악 팬들의 마음를 사로잡은 것.\n",
      "화자2]더해 국내외 음원차트 1위와 음반차트 최상위권를 기록하는 등 매 앨범 자체 최고 성적를 거두며 톡톡 튀는 존재감를 발휘했기에 내달 1일 컴백 소식과 함께 청량 가를송를 예고한 프로미스나인이 신보 ‘Talk & Talk’으로 선사할 색다른 힐링에 기대감이 최고조에 달했습니다.\n",
      "화자1]‘Talk & Talk’은 신스 사운드가 돋보이는 트랙에 레트로 감성이 더해진 멜로디가 조화를 이루며 중독성 강한 후렴구가 귀에 맴도는 댄스 팝 곡입니다. 밤새도록 전화 통화를 이어가고 싶은 풋풋한 설렘를 ‘아무 말 파티’, ‘끝말잇기’에 비유해 재치 있게 풀어냈습니다.\n",
      "화자2]앞서 공개된 티저 이미지, 오피셜 포토, 리마인더, 뮤직비디오 1차 티저 등 다채로운 컴백 프로모션에서 엿볼 수 있듯 프로미스나인의 한층 업그레이드된 청량한 매력이 물씬 전해져 글로벌 팬들의 설렘 지수를 높였습니다.\n",
      "화자1]특히, 프로미스나인과의 끝를 알고 싶지 않은 무한한 대화가 쉴 새 없이 두근거림를 안기고 아홉 멤버의 물오른 비주얼과 ‘9인 9색’ 폭넓은 매력은 글로벌 팬들를 매료 시킬 예정입니다. 이에 올가를 프로미스나인의 청량 에너지로 꽉 채울 스페셜 싱글 앨범 ‘Talk & Talk’를 향한 궁금증이 높아지고 있습니다.\n",
      "화자2]한편, 프로미스나인은 오는 09월 01일 오후 06시 스페셜 싱글 앨범 ‘Talk & Talk’를 발매합니다.\n",
      "{'summary1': '프로미스나인이 9월 1일 싱글 앨범으로 중독성 강한 후렴구가 특징인 댄스 팝 ‘Talk & Talk’을 발매한다.', 'summary2': \"프로미스나인이 9월 1일 스페셜 싱글 앨범 ‘Talk & Talk’을 발매한다. 프로미스나인은 올여름 전작 타이틀곡 ‘WE GO’로 국내외 음원차트 1위와 음반차트 최상위권을 기록하는 성과를 거두었다. 'Talk & Talk’은 신스 사운드가 돋보이는 트랙에 레트로 감성을 더한 멜로디가 조화를 이루며 중독성 강한 후렴구가 특징인 댄스 팝 이다.\", 'summary3': ''}\n"
     ]
    }
   ],
   "source": [
    "for file in train_broadcast_paths:\n",
    "    with open(file) as f:\n",
    "        js = json.loads(f.read())\n",
    "    \n",
    "    train_source.append(\"broadcast\")\n",
    "    train_ids.append(js[\"Meta\"][\"passage_id\"])\n",
    "    train_passage.append(js[\"Meta\"][\"passage\"])\n",
    "    train_annotation.append({key.lower():value for key, value in js[\"Annotation\"].items()})\n",
    "    \n",
    "for file in val_broadcast_paths:\n",
    "    with open(file) as f:\n",
    "        js = json.loads(f.read())\n",
    "    \n",
    "    val_source.append(\"broadcast\")\n",
    "    val_ids.append(js[\"Meta\"][\"passage_id\"])\n",
    "    val_passage.append(js[\"Meta\"][\"passage\"])\n",
    "    val_annotation.append({key.lower():value for key, value in js[\"Annotation\"].items()})    \n",
    "    \n",
    "print(train_source[-1])\n",
    "print(train_ids[-1])\n",
    "print(train_passage[-1])\n",
    "print(train_annotation[-1]) "
   ]
  },
  {
   "cell_type": "markdown",
   "id": "8dbbd43b-cf4a-4c8d-a9cb-99c36b9f0fe2",
   "metadata": {},
   "source": [
    "# dacon"
   ]
  },
  {
   "cell_type": "code",
   "execution_count": 213,
   "id": "3feaf618-ee35-4ea3-b42a-9736cdcc63cf",
   "metadata": {},
   "outputs": [
    {
     "name": "stdout",
     "output_type": "stream",
     "text": [
      "<class 'list'>\n"
     ]
    },
    {
     "data": {
      "text/plain": [
       "{'id': 1000,\n",
       " 'title': '제207회 완주군의회(임시회) 제 1 차 본회의회의록',\n",
       " 'region': '완주',\n",
       " 'num_agenda': 4,\n",
       " 'context': {'AGENDA_1': {'0': '의석을 정돈하여 주시기 바랍니다. 성원이 되었으므로 제207회 완주군의회 임시회 제1차 본회의 개의를 선포합니다. 먼저 의사팀장으로부터 의회 관련 사항에 대한 보고가 있겠습니다. 의사팀장은 보고하여 주시기 바랍니다.',\n",
       "   '1': '의사팀장 이은미 입니다. 의회관련 사항을 보고 드리겠습니다. 먼저 제207회 완주군의회 임시회 소집경위를 보고 드리겠습니다. 지방자치법 제45조 제2항의 규정에 의거 서남용 의원님 외 4인의 의원님으로부터 임시회 집회 요구가 있어 지난 8월6일 집회 공고를 하고 오늘 집회를 갖게 되었습니다. 다음은 의안접수 및 회부사항입니다. 먼저 의원발의 안건입니다. 완주군의회 의원 의정활동비등 지급에 관한 조례 일부개정 조례안, 완주군 향토문화유산 보호 및 관리 조례안, 완주군 싸움소 육성 지원에 관한 조례안 등 총 3건으로, 해당 상임의원회로 회부 하였습니다. 다음은 완주군수로부터 제출된 안건입니다. 삼례문화예술촌 설치 및 운영조례 일부개정 조례안 등 총 40건으로 해당 상임의원회로 회부하였습니다. 자세한 내용은 배부해 드린 유인물을 참조하여 주시기 바랍니다. 이상 보고를 마치겠습니다.'},\n",
       "  'AGENDA_2': {'0': '의사팀장 수고하셨습니다. 먼저 의사일정 제1항 제207회 완주군의회 임시회 회기 결정의 건을 상정합니다. 제207회 완주군의회 임시회 회기 결정의 건에 대하여는 서남용 의원님 외 4인의 의원님이 발의한대로 8월 26일부터 9월 4일까지 10일간의 회기를 결정하고자 합니다. 의원 여러분 이의 있으십니까?',\n",
       "   '1': '(『없습니다』하는 의원 있음)',\n",
       "   '2': '이의가 없으므로 가결되었음을 선포합니다.'},\n",
       "  'AGENDA_3': {'0': '다음은 의사일정 제2항 제207회 완주군의회 임시회 회의록 서명의원 선출의 건을 상정합니다. 회의록 서명의원으로는 최등원 의원님과 박웅배 의원님을 선출하고자 하는데 의원여러분 이의 있습니까?',\n",
       "   '1': '(『없습니다』하는 의원 있음)',\n",
       "   '2': '이의가 없으므로 가결되었음을 선포합니다. 그럼 두 분 의원님께서는 본 회기동안 수고하여 주시기 바랍니다.'},\n",
       "  'AGENDA_4': {'0': '다음은 의사일정 제3항 본회의 휴회의 건을 상정합니다. 상임의원회 의정활동을 위하여 8월 27일부터 9월 3일까지 8일간 본회를 휴회 하고자 합니다. 의원여러분 이의 있으십니까?',\n",
       "   '1': '(『없습니다』하는 의원 있음)',\n",
       "   '2': '이의가 없으므로 가결되었음을 선포합니다. 이상으로 제207회 완주군의회 임시회 제1차 본회의를 마치겠습니다. 다음 제2차 본회의는 9월 4일 오전 10시에 개의하겠습니다. 의원여러분 수고 많으셨습니다. 산회를 선포합니다.'}},\n",
       " 'label': {'AGENDA_1': {'evidence': {'0': ['의석을 정돈하여 주시기 바랍니다.',\n",
       "     '성원이 되었으므로 제207회 완주군의회 임시회 제1차 본회의 개의를 선포합니다.']},\n",
       "   'summary': '제207회 완주군의회 임시회 제1차 본회의 개의 선포.'},\n",
       "  'AGENDA_2': {'evidence': {'0': ['먼저 의사일정 제1항 제207회 완주군의회 임시회 회기 결정의 건을 상정합니다.',\n",
       "     '제207회 완주군의회 임시회 회기 결정의 건에 대하여는 서남용 의원님 외 4인의 의원님이 발의한대로 8월 26일부터 9월 4일까지 10일간의 회기를 결정하고자 합니다.',\n",
       "     '의원 여러분 이의 있으십니까?'],\n",
       "    '2': ['이의가 없으므로 가결되었음을 선포합니다.']},\n",
       "   'summary': '제207회 완주군의회 임시회 회기는 8월 26일부터 9월 4일까지 10일간으로 가결됨.'},\n",
       "  'AGENDA_3': {'evidence': {'0': ['다음은 의사일정 제2항 제207회 완주군의회 임시회 회의록 서명의원 선출의 건을 상정합니다.',\n",
       "     '회의록 서명의원으로는 최등원 의원님과 박웅배 의원님을 선출하고자 하는데 의원여러분 이의 있습니까?'],\n",
       "    '2': ['이의가 없으므로 가결되었음을 선포합니다.']},\n",
       "   'summary': '제207회 완주군의회 임시회 회의록 서명의원으로 최등원 의원과 박웅배 의원이 선출됨.'},\n",
       "  'AGENDA_4': {'evidence': {'0': ['다음은 의사일정 제3항 본회의 휴회의 건을 상정합니다.',\n",
       "     '상임의원회 의정활동을 위하여 8월 27일부터 9월 3일까지 8일간 본회를 휴회 하고자 합니다.',\n",
       "     '의원여러분 이의 있으십니까?'],\n",
       "    '2': ['이의가 없으므로 가결되었음을 선포합니다.', '다음 제2차 본회의는 9월 4일 오전 10시에 개의하겠습니다.']},\n",
       "   'summary': '8월 27일부터 9월 3일까지 8일간 휴회가 가결됨. 제2차 본회의는 9월 4일 오전 10시에 개의.'}}}"
      ]
     },
     "execution_count": 213,
     "metadata": {},
     "output_type": "execute_result"
    }
   ],
   "source": [
    "with open(train_dacon_paths) as f:\n",
    "    js = json.loads(f.read())\n",
    "print(type(js))\n",
    "js[0]"
   ]
  },
  {
   "cell_type": "code",
   "execution_count": 214,
   "id": "c2c8e406-014f-47d4-9cae-07826b397dde",
   "metadata": {},
   "outputs": [
    {
     "name": "stdout",
     "output_type": "stream",
     "text": [
      "broadcast\n",
      "SCRIPT-c_event-00476-00006\n",
      "최경영]이미 그러면 객관성을 상실했다, 공정성을 잃었다 이렇게 보시는 거예요?\n",
      "오신환]그렇습니다. 그래서 계속 이런 식의 경선의 룰을 뒤집으려고 하는 의도가 있다면 정홍원 위원장은 경선을 관리하러 온 것이 아니라 불공정하게 경선을 끌고 가려고 하는 판을 깨고자 하는 의도가 있다고 보고 즉각 사퇴하라는 것이 저희들의 입장입니다.\n",
      "최경영]그렇군요. 만약에 역선택 방지 조항 관련해서 논란이 계속되거나 아니면 이거를 채택한다면 어떻게 하실 거예요, 그러면?\n",
      "오신환]그거는 뭐 경선판을 깨자는 거니까 저희로서는 도저히 받아들일 수 없는 거고요. 파국으로 치닫는 거죠, 뭐.\n",
      "최경영]하태경 후보 같은 경우에 1차 컷오프와 2차 컷오프 모두에서, 그러니까 대안으로 국민 여론조사 50%, 당원 투표 50%. 지금은 1차 컷오프가 여론조사 100%잖아요. 이렇게 바꿔보자고 했는데 이거는 검토가 가능합니까? 이런 대안 같은 건.\n",
      "오신환]저는 하태경 의원이 나름 중재안이라고 얘기를 했지만 그것은 중재안이 될 수가 없고요. 저는 원칙을 말씀 드리는 겁니다. 어쨌든 이미 최고위에서 결정된 그 안을 그것이 경준위의 권한이냐 아니냐 이 부분은 지도부에서 싸울 일이고 온 국민이 그것으로 인해서 다 최고위의 추인으로 결정이 난 것으로 알고 있는데. 더군다나 우리 국민의 힘에서는 단 한 번도 이런 역선택 조항을 경선에서 넣은 적이 없는데 이제 와서 그것을 삽입하려고 하는 그 의도 자체를 저희는 도저히 받아들일 수가 없기 때문에 이거는 원칙의 문제지 이걸 타협해서 뭐 일부 조정할 수 있는 그런 문제는 아니다 이렇게 받아들이고 있는 겁니다.\n",
      "{'summary1': '정홍원 위원장은 즉각 사퇴해야 하고, 최고위에서 추인된 이 문제는 타협의 문제가 아닌 원칙의 문제로 여겨진다.', 'summary2': '', 'summary3': '정홍원 위원장은 경선을 관리하러 온 것이 아니라 불공정하게 경선을 끌고 가려는 의도가 있다고 보고 즉각 사퇴해야 한다. 하태경 후보의 1차 컷오프와 2차 컷오프를 국민 여론 50%, 당원 투표 50%로 하는 대안은 중재안이 될 수 없다. 최고위에서 추인된 사항인 이 문제는 타협의 문제가 아닌 원칙의 문제이다.'}\n"
     ]
    }
   ],
   "source": [
    "with open(train_dacon_paths) as f:\n",
    "    js = json.loads(f.read())\n",
    "\n",
    "for file in js:\n",
    "    num_agenda = file[\"num_agenda\"]    \n",
    "    for idx in range(num_agenda):\n",
    "        train_source.append(\"dacon\")\n",
    "        train_ids.append(\"DACON-\" + str(file[\"id\"]) + \"-\" + str(idx + 1))\n",
    "        train_passage.append(\" 화자]\".join(i for i in file[\"context\"][\"AGENDA_\" + str(idx+1)].values()))\n",
    "        train_annotation.append({\"summary1\": file[\"label\"][\"AGENDA_\" + str(idx+1)][\"summary\"]})  \n",
    "\n",
    "print(train_source[60000])\n",
    "print(train_ids[60000])\n",
    "print(train_passage[60000])\n",
    "print(train_annotation[60000])"
   ]
  },
  {
   "cell_type": "markdown",
   "id": "171cf07d-3e96-4bff-8d20-63b19e8d2ff9",
   "metadata": {},
   "source": [
    "# pandas dataframe"
   ]
  },
  {
   "cell_type": "code",
   "execution_count": 218,
   "id": "35680011-ea05-4267-8662-55f36d3189a3",
   "metadata": {},
   "outputs": [
    {
     "name": "stdout",
     "output_type": "stream",
     "text": [
      "train : 92523\n"
     ]
    },
    {
     "data": {
      "text/html": [
       "<div>\n",
       "<style scoped>\n",
       "    .dataframe tbody tr th:only-of-type {\n",
       "        vertical-align: middle;\n",
       "    }\n",
       "\n",
       "    .dataframe tbody tr th {\n",
       "        vertical-align: top;\n",
       "    }\n",
       "\n",
       "    .dataframe thead th {\n",
       "        text-align: right;\n",
       "    }\n",
       "</style>\n",
       "<table border=\"1\" class=\"dataframe\">\n",
       "  <thead>\n",
       "    <tr style=\"text-align: right;\">\n",
       "      <th></th>\n",
       "      <th>source</th>\n",
       "      <th>ids</th>\n",
       "      <th>passage</th>\n",
       "      <th>annotation</th>\n",
       "    </tr>\n",
       "  </thead>\n",
       "  <tbody>\n",
       "    <tr>\n",
       "      <th>0</th>\n",
       "      <td>report</td>\n",
       "      <td>REPORT-minute-00001-00004</td>\n",
       "      <td>위원장 신학용] \"수고하셨습니다.   다음은 존경하는 현영희 위원님 인사말씀해 주세...</td>\n",
       "      <td>{'summary1': '아이들의 미래를 열어가는 장을 만들 수 있는 교과위에 오기...</td>\n",
       "    </tr>\n",
       "    <tr>\n",
       "      <th>1</th>\n",
       "      <td>report</td>\n",
       "      <td>REPORT-minute-00001-00006</td>\n",
       "      <td>위원장 신학용] \"수고하셨고요.  이상민 위원님 인사말씀해 주세요.\"\\n이상민 위원...</td>\n",
       "      <td>{'summary1': '이 위원은 교육과 과학이 국가의 미래이고 서민들의 삶을 결...</td>\n",
       "    </tr>\n",
       "    <tr>\n",
       "      <th>2</th>\n",
       "      <td>report</td>\n",
       "      <td>REPORT-minute-00001-00019</td>\n",
       "      <td>교육과학기술부장관 이주호] \"96년부터 시행을 하고 있습니다.\"\\n강은희 위원] \"...</td>\n",
       "      <td>{'summary1': '강 위원은 진보 성향의 교육감을 둔 지역은 공교롭게도 20...</td>\n",
       "    </tr>\n",
       "    <tr>\n",
       "      <th>3</th>\n",
       "      <td>report</td>\n",
       "      <td>REPORT-minute-00001-00032</td>\n",
       "      <td>교육과학기술부장관 이주호] \"저희도 그 부분이 굉장히 가장 중요한 부분이라고 생각하...</td>\n",
       "      <td>{'summary1': '이 교육과학기술부장관은 주 5일제가 잘 정착하기 위해 학교...</td>\n",
       "    </tr>\n",
       "    <tr>\n",
       "      <th>4</th>\n",
       "      <td>report</td>\n",
       "      <td>REPORT-minute-00001-00033</td>\n",
       "      <td>교육과학기술부장관 이주호] \"예.\"\\n김상희 위원] \"결정을 해서 지금 이제 권고를...</td>\n",
       "      <td>{'summary1': '김 위원은 야당 국회의원인 시인 도 씨의 작품을 교과서에서...</td>\n",
       "    </tr>\n",
       "  </tbody>\n",
       "</table>\n",
       "</div>"
      ],
      "text/plain": [
       "   source                        ids  \\\n",
       "0  report  REPORT-minute-00001-00004   \n",
       "1  report  REPORT-minute-00001-00006   \n",
       "2  report  REPORT-minute-00001-00019   \n",
       "3  report  REPORT-minute-00001-00032   \n",
       "4  report  REPORT-minute-00001-00033   \n",
       "\n",
       "                                             passage  \\\n",
       "0  위원장 신학용] \"수고하셨습니다.   다음은 존경하는 현영희 위원님 인사말씀해 주세...   \n",
       "1  위원장 신학용] \"수고하셨고요.  이상민 위원님 인사말씀해 주세요.\"\\n이상민 위원...   \n",
       "2  교육과학기술부장관 이주호] \"96년부터 시행을 하고 있습니다.\"\\n강은희 위원] \"...   \n",
       "3  교육과학기술부장관 이주호] \"저희도 그 부분이 굉장히 가장 중요한 부분이라고 생각하...   \n",
       "4  교육과학기술부장관 이주호] \"예.\"\\n김상희 위원] \"결정을 해서 지금 이제 권고를...   \n",
       "\n",
       "                                          annotation  \n",
       "0  {'summary1': '아이들의 미래를 열어가는 장을 만들 수 있는 교과위에 오기...  \n",
       "1  {'summary1': '이 위원은 교육과 과학이 국가의 미래이고 서민들의 삶을 결...  \n",
       "2  {'summary1': '강 위원은 진보 성향의 교육감을 둔 지역은 공교롭게도 20...  \n",
       "3  {'summary1': '이 교육과학기술부장관은 주 5일제가 잘 정착하기 위해 학교...  \n",
       "4  {'summary1': '김 위원은 야당 국회의원인 시인 도 씨의 작품을 교과서에서...  "
      ]
     },
     "metadata": {},
     "output_type": "display_data"
    },
    {
     "name": "stdout",
     "output_type": "stream",
     "text": [
      "validation : 10700\n"
     ]
    },
    {
     "data": {
      "text/html": [
       "<div>\n",
       "<style scoped>\n",
       "    .dataframe tbody tr th:only-of-type {\n",
       "        vertical-align: middle;\n",
       "    }\n",
       "\n",
       "    .dataframe tbody tr th {\n",
       "        vertical-align: top;\n",
       "    }\n",
       "\n",
       "    .dataframe thead th {\n",
       "        text-align: right;\n",
       "    }\n",
       "</style>\n",
       "<table border=\"1\" class=\"dataframe\">\n",
       "  <thead>\n",
       "    <tr style=\"text-align: right;\">\n",
       "      <th></th>\n",
       "      <th>source</th>\n",
       "      <th>ids</th>\n",
       "      <th>passage</th>\n",
       "      <th>annotation</th>\n",
       "    </tr>\n",
       "  </thead>\n",
       "  <tbody>\n",
       "    <tr>\n",
       "      <th>0</th>\n",
       "      <td>report</td>\n",
       "      <td>REPORT-minute-00001-00021</td>\n",
       "      <td>강은희 위원] \"마지막으로 한 가지 더 여쭙겠습니다.   최근 민간자격증 관해서도 ...</td>\n",
       "      <td>{'summary1': '강 의원은 민간자격증 논란과 관련해 교육부 차원에서 민간자...</td>\n",
       "    </tr>\n",
       "    <tr>\n",
       "      <th>1</th>\n",
       "      <td>report</td>\n",
       "      <td>REPORT-minute-00001-00034</td>\n",
       "      <td>교육과학기술부장관 이주호] \"제가 앞에서도 말씀드렸지만 그게 위탁업무이기 때문에 그...</td>\n",
       "      <td>{'summary1': '교육과학기술부장관 이 씨는 위탁업무이기 때문이라고 말하자 ...</td>\n",
       "    </tr>\n",
       "    <tr>\n",
       "      <th>2</th>\n",
       "      <td>report</td>\n",
       "      <td>REPORT-minute-00001-00045</td>\n",
       "      <td>교육과학기술부장관 이주호] \"예.\"\\n박혜자 위원] \"그 이유는 지역과 학교의 다양...</td>\n",
       "      <td>{'summary1': '박 위원은 교육부를 해체시켜 연구학습부로 개편하자고 한 장...</td>\n",
       "    </tr>\n",
       "    <tr>\n",
       "      <th>3</th>\n",
       "      <td>report</td>\n",
       "      <td>REPORT-minute-00001-00059</td>\n",
       "      <td>교육과학기술부장관 이주호] \"예 어떻든 하여튼 최선 다해서……\"\\n이상민 위원] \"...</td>\n",
       "      <td>{'summary1': '컨트롤타워가 누군지 묻는 이 위원의 말에 이 장관은 국과위...</td>\n",
       "    </tr>\n",
       "    <tr>\n",
       "      <th>4</th>\n",
       "      <td>report</td>\n",
       "      <td>REPORT-minute-00001-00060</td>\n",
       "      <td>이상민 위원] \"아니 보세요. 장관님 예산에 대한 조정ㆍ배분권만 갖고 있으면 대한민...</td>\n",
       "      <td>{'summary1': '이 위원은 이 정부의 최대 국정 파탄의 예는 과학기술에 대...</td>\n",
       "    </tr>\n",
       "  </tbody>\n",
       "</table>\n",
       "</div>"
      ],
      "text/plain": [
       "   source                        ids  \\\n",
       "0  report  REPORT-minute-00001-00021   \n",
       "1  report  REPORT-minute-00001-00034   \n",
       "2  report  REPORT-minute-00001-00045   \n",
       "3  report  REPORT-minute-00001-00059   \n",
       "4  report  REPORT-minute-00001-00060   \n",
       "\n",
       "                                             passage  \\\n",
       "0  강은희 위원] \"마지막으로 한 가지 더 여쭙겠습니다.   최근 민간자격증 관해서도 ...   \n",
       "1  교육과학기술부장관 이주호] \"제가 앞에서도 말씀드렸지만 그게 위탁업무이기 때문에 그...   \n",
       "2  교육과학기술부장관 이주호] \"예.\"\\n박혜자 위원] \"그 이유는 지역과 학교의 다양...   \n",
       "3  교육과학기술부장관 이주호] \"예 어떻든 하여튼 최선 다해서……\"\\n이상민 위원] \"...   \n",
       "4  이상민 위원] \"아니 보세요. 장관님 예산에 대한 조정ㆍ배분권만 갖고 있으면 대한민...   \n",
       "\n",
       "                                          annotation  \n",
       "0  {'summary1': '강 의원은 민간자격증 논란과 관련해 교육부 차원에서 민간자...  \n",
       "1  {'summary1': '교육과학기술부장관 이 씨는 위탁업무이기 때문이라고 말하자 ...  \n",
       "2  {'summary1': '박 위원은 교육부를 해체시켜 연구학습부로 개편하자고 한 장...  \n",
       "3  {'summary1': '컨트롤타워가 누군지 묻는 이 위원의 말에 이 장관은 국과위...  \n",
       "4  {'summary1': '이 위원은 이 정부의 최대 국정 파탄의 예는 과학기술에 대...  "
      ]
     },
     "execution_count": 218,
     "metadata": {},
     "output_type": "execute_result"
    }
   ],
   "source": [
    "train_data = {'source':train_source, 'ids':train_ids, 'passage':train_passage, 'annotation':train_annotation}\n",
    "train = pd.DataFrame(train_data)\n",
    "val_data =  {'source':val_source, 'ids':val_ids, 'passage':val_passage, 'annotation':val_annotation}\n",
    "val = pd.DataFrame(val_data)\n",
    "\n",
    "print(\"train :\", len(train))\n",
    "display(train.head(5))\n",
    "print(\"validation :\", len(val))\n",
    "val.head(5)"
   ]
  },
  {
   "cell_type": "markdown",
   "id": "e03ba4fa-bb9b-45f3-b34f-c2255512292a",
   "metadata": {},
   "source": [
    "# pickle 파일 저장"
   ]
  },
  {
   "cell_type": "code",
   "execution_count": 219,
   "id": "4bb272f0-3b23-412f-a96b-df93ea6d9adc",
   "metadata": {},
   "outputs": [],
   "source": [
    "# pickle load & save\n",
    "def save_data(file, data):\n",
    "    with gzip.open(file, 'wb') as f:\n",
    "        pickle.dump(data, f)\n",
    "\n",
    "def load_data(file):\n",
    "    with gzip.open(file, 'rb') as f:\n",
    "        data = pickle.load(f)\n",
    "        return data\n",
    "    \n",
    "save_data(\"train.pickle\", train)\n",
    "save_data(\"validation.pickle\", val)"
   ]
  },
  {
   "cell_type": "code",
   "execution_count": 220,
   "id": "21d465d1-c99b-4e03-8393-c0a78437d7cb",
   "metadata": {},
   "outputs": [
    {
     "data": {
      "text/html": [
       "<div>\n",
       "<style scoped>\n",
       "    .dataframe tbody tr th:only-of-type {\n",
       "        vertical-align: middle;\n",
       "    }\n",
       "\n",
       "    .dataframe tbody tr th {\n",
       "        vertical-align: top;\n",
       "    }\n",
       "\n",
       "    .dataframe thead th {\n",
       "        text-align: right;\n",
       "    }\n",
       "</style>\n",
       "<table border=\"1\" class=\"dataframe\">\n",
       "  <thead>\n",
       "    <tr style=\"text-align: right;\">\n",
       "      <th></th>\n",
       "      <th>source</th>\n",
       "      <th>ids</th>\n",
       "      <th>passage</th>\n",
       "      <th>annotation</th>\n",
       "    </tr>\n",
       "  </thead>\n",
       "  <tbody>\n",
       "    <tr>\n",
       "      <th>0</th>\n",
       "      <td>report</td>\n",
       "      <td>REPORT-minute-00001-00004</td>\n",
       "      <td>위원장 신학용] \"수고하셨습니다.   다음은 존경하는 현영희 위원님 인사말씀해 주세...</td>\n",
       "      <td>{'summary1': '아이들의 미래를 열어가는 장을 만들 수 있는 교과위에 오기...</td>\n",
       "    </tr>\n",
       "    <tr>\n",
       "      <th>1</th>\n",
       "      <td>report</td>\n",
       "      <td>REPORT-minute-00001-00006</td>\n",
       "      <td>위원장 신학용] \"수고하셨고요.  이상민 위원님 인사말씀해 주세요.\"\\n이상민 위원...</td>\n",
       "      <td>{'summary1': '이 위원은 교육과 과학이 국가의 미래이고 서민들의 삶을 결...</td>\n",
       "    </tr>\n",
       "    <tr>\n",
       "      <th>2</th>\n",
       "      <td>report</td>\n",
       "      <td>REPORT-minute-00001-00019</td>\n",
       "      <td>교육과학기술부장관 이주호] \"96년부터 시행을 하고 있습니다.\"\\n강은희 위원] \"...</td>\n",
       "      <td>{'summary1': '강 위원은 진보 성향의 교육감을 둔 지역은 공교롭게도 20...</td>\n",
       "    </tr>\n",
       "    <tr>\n",
       "      <th>3</th>\n",
       "      <td>report</td>\n",
       "      <td>REPORT-minute-00001-00032</td>\n",
       "      <td>교육과학기술부장관 이주호] \"저희도 그 부분이 굉장히 가장 중요한 부분이라고 생각하...</td>\n",
       "      <td>{'summary1': '이 교육과학기술부장관은 주 5일제가 잘 정착하기 위해 학교...</td>\n",
       "    </tr>\n",
       "    <tr>\n",
       "      <th>4</th>\n",
       "      <td>report</td>\n",
       "      <td>REPORT-minute-00001-00033</td>\n",
       "      <td>교육과학기술부장관 이주호] \"예.\"\\n김상희 위원] \"결정을 해서 지금 이제 권고를...</td>\n",
       "      <td>{'summary1': '김 위원은 야당 국회의원인 시인 도 씨의 작품을 교과서에서...</td>\n",
       "    </tr>\n",
       "    <tr>\n",
       "      <th>...</th>\n",
       "      <td>...</td>\n",
       "      <td>...</td>\n",
       "      <td>...</td>\n",
       "      <td>...</td>\n",
       "    </tr>\n",
       "    <tr>\n",
       "      <th>92518</th>\n",
       "      <td>dacon</td>\n",
       "      <td>DACON-1462-6</td>\n",
       "      <td>회계과장입니다. 회계과 소관 2020년도 주요 현안사업을 보고드리겠습니다. 보고드릴...</td>\n",
       "      <td>{'summary1': '음성읍행정복지센터 앞에 사유지 매입은 필요한 사업이기에 예...</td>\n",
       "    </tr>\n",
       "    <tr>\n",
       "      <th>92519</th>\n",
       "      <td>dacon</td>\n",
       "      <td>DACON-1462-7</td>\n",
       "      <td>민원과장 김후식입니다. 민원과 소관 2020년도 주요 현안사업 추진상황을 보고드리겠...</td>\n",
       "      <td>{'summary1': '공공시설물 전산화 작업시에 사유시설과 같이 협력해서 처리할...</td>\n",
       "    </tr>\n",
       "    <tr>\n",
       "      <th>92520</th>\n",
       "      <td>dacon</td>\n",
       "      <td>DACON-1462-8</td>\n",
       "      <td>경제과장 박세덕입니다. 경제과 2020년 주요 현안사업에 대하여 보고드리겠습니다. ...</td>\n",
       "      <td>{'summary1': '용계리 지역의 땅꺼짐 현상에 대해 군 차원의 대처를 위한 ...</td>\n",
       "    </tr>\n",
       "    <tr>\n",
       "      <th>92521</th>\n",
       "      <td>dacon</td>\n",
       "      <td>DACON-1462-9</td>\n",
       "      <td>농정과장 김기연입니다. 농정과 소관 2020년도 하반기 주요 현안사업을 보고드리겠습...</td>\n",
       "      <td>{'summary1': '음성군에서 생산된 쌀이 진천으로 수매하는 현상이 발생하고 ...</td>\n",
       "    </tr>\n",
       "    <tr>\n",
       "      <th>92522</th>\n",
       "      <td>dacon</td>\n",
       "      <td>DACON-1462-10</td>\n",
       "      <td>축산식품과장 송요성입니다. 축산식품과 소관 2020년도 군정주요 현안사업을 보고드리...</td>\n",
       "      <td>{'summary1': '현재 저조한 길고양이 중성화사업에 적극행정을 취해줄 것. ...</td>\n",
       "    </tr>\n",
       "  </tbody>\n",
       "</table>\n",
       "<p>92523 rows × 4 columns</p>\n",
       "</div>"
      ],
      "text/plain": [
       "       source                        ids  \\\n",
       "0      report  REPORT-minute-00001-00004   \n",
       "1      report  REPORT-minute-00001-00006   \n",
       "2      report  REPORT-minute-00001-00019   \n",
       "3      report  REPORT-minute-00001-00032   \n",
       "4      report  REPORT-minute-00001-00033   \n",
       "...       ...                        ...   \n",
       "92518   dacon               DACON-1462-6   \n",
       "92519   dacon               DACON-1462-7   \n",
       "92520   dacon               DACON-1462-8   \n",
       "92521   dacon               DACON-1462-9   \n",
       "92522   dacon              DACON-1462-10   \n",
       "\n",
       "                                                 passage  \\\n",
       "0      위원장 신학용] \"수고하셨습니다.   다음은 존경하는 현영희 위원님 인사말씀해 주세...   \n",
       "1      위원장 신학용] \"수고하셨고요.  이상민 위원님 인사말씀해 주세요.\"\\n이상민 위원...   \n",
       "2      교육과학기술부장관 이주호] \"96년부터 시행을 하고 있습니다.\"\\n강은희 위원] \"...   \n",
       "3      교육과학기술부장관 이주호] \"저희도 그 부분이 굉장히 가장 중요한 부분이라고 생각하...   \n",
       "4      교육과학기술부장관 이주호] \"예.\"\\n김상희 위원] \"결정을 해서 지금 이제 권고를...   \n",
       "...                                                  ...   \n",
       "92518  회계과장입니다. 회계과 소관 2020년도 주요 현안사업을 보고드리겠습니다. 보고드릴...   \n",
       "92519  민원과장 김후식입니다. 민원과 소관 2020년도 주요 현안사업 추진상황을 보고드리겠...   \n",
       "92520  경제과장 박세덕입니다. 경제과 2020년 주요 현안사업에 대하여 보고드리겠습니다. ...   \n",
       "92521  농정과장 김기연입니다. 농정과 소관 2020년도 하반기 주요 현안사업을 보고드리겠습...   \n",
       "92522  축산식품과장 송요성입니다. 축산식품과 소관 2020년도 군정주요 현안사업을 보고드리...   \n",
       "\n",
       "                                              annotation  \n",
       "0      {'summary1': '아이들의 미래를 열어가는 장을 만들 수 있는 교과위에 오기...  \n",
       "1      {'summary1': '이 위원은 교육과 과학이 국가의 미래이고 서민들의 삶을 결...  \n",
       "2      {'summary1': '강 위원은 진보 성향의 교육감을 둔 지역은 공교롭게도 20...  \n",
       "3      {'summary1': '이 교육과학기술부장관은 주 5일제가 잘 정착하기 위해 학교...  \n",
       "4      {'summary1': '김 위원은 야당 국회의원인 시인 도 씨의 작품을 교과서에서...  \n",
       "...                                                  ...  \n",
       "92518  {'summary1': '음성읍행정복지센터 앞에 사유지 매입은 필요한 사업이기에 예...  \n",
       "92519  {'summary1': '공공시설물 전산화 작업시에 사유시설과 같이 협력해서 처리할...  \n",
       "92520  {'summary1': '용계리 지역의 땅꺼짐 현상에 대해 군 차원의 대처를 위한 ...  \n",
       "92521  {'summary1': '음성군에서 생산된 쌀이 진천으로 수매하는 현상이 발생하고 ...  \n",
       "92522  {'summary1': '현재 저조한 길고양이 중성화사업에 적극행정을 취해줄 것. ...  \n",
       "\n",
       "[92523 rows x 4 columns]"
      ]
     },
     "execution_count": 220,
     "metadata": {},
     "output_type": "execute_result"
    }
   ],
   "source": [
    "tmp = load_data(\"train.pickle\")\n",
    "tmp"
   ]
  }
 ],
 "metadata": {
  "kernelspec": {
   "display_name": "Python 3 (ipykernel)",
   "language": "python",
   "name": "python3"
  },
  "language_info": {
   "codemirror_mode": {
    "name": "ipython",
    "version": 3
   },
   "file_extension": ".py",
   "mimetype": "text/x-python",
   "name": "python",
   "nbconvert_exporter": "python",
   "pygments_lexer": "ipython3",
   "version": "3.8.5"
  }
 },
 "nbformat": 4,
 "nbformat_minor": 5
}
