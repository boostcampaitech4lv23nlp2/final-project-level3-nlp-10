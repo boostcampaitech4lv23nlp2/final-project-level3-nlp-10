{
 "cells": [
  {
   "attachments": {},
   "cell_type": "markdown",
   "metadata": {},
   "source": [
    "### 전체 validation data의 Cosine Similarity"
   ]
  },
  {
   "cell_type": "code",
   "execution_count": 1,
   "metadata": {},
   "outputs": [
    {
     "name": "stderr",
     "output_type": "stream",
     "text": [
      "/opt/conda/envs/mrc/lib/python3.8/site-packages/tqdm/auto.py:22: TqdmWarning: IProgress not found. Please update jupyter and ipywidgets. See https://ipywidgets.readthedocs.io/en/stable/user_install.html\n",
      "  from .autonotebook import tqdm as notebook_tqdm\n"
     ]
    }
   ],
   "source": [
    "import json\n",
    "from tqdm import tqdm\n",
    "\n",
    "import numpy as np\n",
    "import pandas as pd\n",
    "import torch\n",
    "import torch.nn.functional as F\n",
    "from sentence_transformers import SentenceTransformer\n",
    "\n",
    "import kss\n",
    "import pickle"
   ]
  },
  {
   "cell_type": "code",
   "execution_count": 2,
   "metadata": {},
   "outputs": [],
   "source": [
    "data_path = \"../data/hyunwoongko_kobart_v3_generated.pickle\"\n",
    "\n",
    "with open(data_path, \"rb\") as f:\n",
    "    data = pickle.load(f)"
   ]
  },
  {
   "cell_type": "code",
   "execution_count": 7,
   "metadata": {},
   "outputs": [
    {
     "data": {
      "text/html": [
       "<div>\n",
       "<style scoped>\n",
       "    .dataframe tbody tr th:only-of-type {\n",
       "        vertical-align: middle;\n",
       "    }\n",
       "\n",
       "    .dataframe tbody tr th {\n",
       "        vertical-align: top;\n",
       "    }\n",
       "\n",
       "    .dataframe thead th {\n",
       "        text-align: right;\n",
       "    }\n",
       "</style>\n",
       "<table border=\"1\" class=\"dataframe\">\n",
       "  <thead>\n",
       "    <tr style=\"text-align: right;\">\n",
       "      <th></th>\n",
       "      <th>generated_output</th>\n",
       "      <th>ground_truth</th>\n",
       "    </tr>\n",
       "  </thead>\n",
       "  <tbody>\n",
       "    <tr>\n",
       "      <th>0</th>\n",
       "      <td>부동산·편법거래 및 시장 교란행위가 부동산시장을 왜곡하고 있지만 기대심리와 투기수요...</td>\n",
       "      <td>국내 기관뿐만 아니라 BIS 등 국제기구에서도 과도하게 상승한 주택 가격의 조정 가...</td>\n",
       "    </tr>\n",
       "    <tr>\n",
       "      <th>1</th>\n",
       "      <td>정부는 코로나19 이후 증가한 시중 유동성에 대한 관리를 강화해나가고자 하며 경제의...</td>\n",
       "      <td>정부는 경제의 안정적 성장과 부동산시장 안정을 위해 가계부채를 보다 촘촘히 점검·관...</td>\n",
       "    </tr>\n",
       "    <tr>\n",
       "      <th>2</th>\n",
       "      <td>자녀 내에서 일·생활 균형문화 확산을 위해 가족친화인증제도의 인증 기준을 강화하는 ...</td>\n",
       "      <td>의료종사자의 인권침해 예방 등 여성이 많이 종사하는 직종에 대한 보호를 강화해나가고...</td>\n",
       "    </tr>\n",
       "    <tr>\n",
       "      <th>3</th>\n",
       "      <td>국립감염병연구소에서는 백신접종자의 혈액을 채취한 후 실제 바이러스에 노출시켜 감염을...</td>\n",
       "      <td>국립감염병연구소에서 백신 접종자의 혈액을 채취하여 중화항체 실험을 시행했다.</td>\n",
       "    </tr>\n",
       "    <tr>\n",
       "      <th>4</th>\n",
       "      <td>온벤처붐 안착과 성과 확산을 촉진하고 혁신 중소벤처기업 육성 및 지역 기반 창업 활...</td>\n",
       "      <td>중소벤처기업부는 전 부처 중소기업 정책의 총괄 기능을 강화하고 빅데이터 기반 정책 ...</td>\n",
       "    </tr>\n",
       "    <tr>\n",
       "      <th>...</th>\n",
       "      <td>...</td>\n",
       "      <td>...</td>\n",
       "    </tr>\n",
       "    <tr>\n",
       "      <th>7295</th>\n",
       "      <td>&lt;불후의 명곡-전설을 노래하다&gt; ‘들국화 전인권’ 편에서 박완규는 '불미스러운 첫 ...</td>\n",
       "      <td>&lt;불후의 명곡-전설을 노래하다&gt;에서 박완규는 전인권에게 고소를 당해 법정에서 첫 만...</td>\n",
       "    </tr>\n",
       "    <tr>\n",
       "      <th>7296</th>\n",
       "      <td>'살림남2'에 출연한 홍성흔은 코로나 확산으로 인해 재계약 불가로 국내에 머물고 있...</td>\n",
       "      <td>‘살림하는 남자들 시즌2’에 새롭게 출연한 홍성흔이 17년 만에 함께 살게 된 가족...</td>\n",
       "    </tr>\n",
       "    <tr>\n",
       "      <th>7297</th>\n",
       "      <td>'살림남2'에서 올림픽 양궁 2관왕 김제덕이 처음으로 등교를 했으며 담임 선생님과 ...</td>\n",
       "      <td>올해 첫 등교를 하게 된 올림픽 양궁 선수 김제덕의 일상이 예능 프로그램 ‘살림하는...</td>\n",
       "    </tr>\n",
       "    <tr>\n",
       "      <th>7298</th>\n",
       "      <td>'1박 2일' 시즌 4는 익숙한 재미와 톡톡 튀는 신선함으로 안방극장을 웃음바다에 ...</td>\n",
       "      <td>'1박2일' 시즌 4가 새 출연진과 제작진으로 재미를 선사했고 멤버들이 룰라의 노래...</td>\n",
       "    </tr>\n",
       "    <tr>\n",
       "      <th>7299</th>\n",
       "      <td>'해피 선데이-슈퍼맨이 돌아왔다'에서 사유리와 그의 아들 젠이 새로운 가족이 되어 ...</td>\n",
       "      <td>사유리와 그의 아들 젠이 KBS 2TV &lt;해피 선데이-슈퍼맨이 돌아왔다&gt;에 출연해 ...</td>\n",
       "    </tr>\n",
       "  </tbody>\n",
       "</table>\n",
       "<p>7300 rows × 2 columns</p>\n",
       "</div>"
      ],
      "text/plain": [
       "                                       generated_output  \\\n",
       "0     부동산·편법거래 및 시장 교란행위가 부동산시장을 왜곡하고 있지만 기대심리와 투기수요...   \n",
       "1     정부는 코로나19 이후 증가한 시중 유동성에 대한 관리를 강화해나가고자 하며 경제의...   \n",
       "2     자녀 내에서 일·생활 균형문화 확산을 위해 가족친화인증제도의 인증 기준을 강화하는 ...   \n",
       "3     국립감염병연구소에서는 백신접종자의 혈액을 채취한 후 실제 바이러스에 노출시켜 감염을...   \n",
       "4     온벤처붐 안착과 성과 확산을 촉진하고 혁신 중소벤처기업 육성 및 지역 기반 창업 활...   \n",
       "...                                                 ...   \n",
       "7295  <불후의 명곡-전설을 노래하다> ‘들국화 전인권’ 편에서 박완규는 '불미스러운 첫 ...   \n",
       "7296  '살림남2'에 출연한 홍성흔은 코로나 확산으로 인해 재계약 불가로 국내에 머물고 있...   \n",
       "7297  '살림남2'에서 올림픽 양궁 2관왕 김제덕이 처음으로 등교를 했으며 담임 선생님과 ...   \n",
       "7298  '1박 2일' 시즌 4는 익숙한 재미와 톡톡 튀는 신선함으로 안방극장을 웃음바다에 ...   \n",
       "7299  '해피 선데이-슈퍼맨이 돌아왔다'에서 사유리와 그의 아들 젠이 새로운 가족이 되어 ...   \n",
       "\n",
       "                                           ground_truth  \n",
       "0     국내 기관뿐만 아니라 BIS 등 국제기구에서도 과도하게 상승한 주택 가격의 조정 가...  \n",
       "1     정부는 경제의 안정적 성장과 부동산시장 안정을 위해 가계부채를 보다 촘촘히 점검·관...  \n",
       "2     의료종사자의 인권침해 예방 등 여성이 많이 종사하는 직종에 대한 보호를 강화해나가고...  \n",
       "3            국립감염병연구소에서 백신 접종자의 혈액을 채취하여 중화항체 실험을 시행했다.  \n",
       "4     중소벤처기업부는 전 부처 중소기업 정책의 총괄 기능을 강화하고 빅데이터 기반 정책 ...  \n",
       "...                                                 ...  \n",
       "7295  <불후의 명곡-전설을 노래하다>에서 박완규는 전인권에게 고소를 당해 법정에서 첫 만...  \n",
       "7296  ‘살림하는 남자들 시즌2’에 새롭게 출연한 홍성흔이 17년 만에 함께 살게 된 가족...  \n",
       "7297  올해 첫 등교를 하게 된 올림픽 양궁 선수 김제덕의 일상이 예능 프로그램 ‘살림하는...  \n",
       "7298  '1박2일' 시즌 4가 새 출연진과 제작진으로 재미를 선사했고 멤버들이 룰라의 노래...  \n",
       "7299  사유리와 그의 아들 젠이 KBS 2TV <해피 선데이-슈퍼맨이 돌아왔다>에 출연해 ...  \n",
       "\n",
       "[7300 rows x 2 columns]"
      ]
     },
     "execution_count": 7,
     "metadata": {},
     "output_type": "execute_result"
    }
   ],
   "source": [
    "data"
   ]
  },
  {
   "cell_type": "code",
   "execution_count": 4,
   "metadata": {},
   "outputs": [],
   "source": [
    "def get_sentence_embedding(model, text: list, batch_size: int = 16) -> torch.Tensor:\n",
    "    embeddings = []\n",
    "    n_batch = len(text) // batch_size + 1\n",
    "    for i in range(n_batch):\n",
    "        with torch.no_grad():\n",
    "            embedding = model.encode(\n",
    "                sentences=text[batch_size * i : batch_size * (i + 1)],\n",
    "                batch_size=batch_size,\n",
    "                show_progress_bar=False,\n",
    "                convert_to_tensor=True,\n",
    "                device=\"cuda:0\",\n",
    "            )\n",
    "        embeddings.append(embedding.cpu())\n",
    "    return torch.cat(embeddings).squeeze()"
   ]
  },
  {
   "cell_type": "code",
   "execution_count": 5,
   "metadata": {},
   "outputs": [],
   "source": [
    "def sentence_embedding_sim_matrix(generated_text: list, target_text: str) -> np.ndarray:\n",
    "    '''\n",
    "    reference: https://github.com/jhgan00/ko-sentence-transformers\n",
    "    '''\n",
    "    # model setting\n",
    "    model = SentenceTransformer('jhgan/ko-sroberta-multitask')\n",
    "\n",
    "    # get sbert embeddings\n",
    "    generated_embedding = get_sentence_embedding(model, generated_text, batch_size=16)\n",
    "    target_embedding = get_sentence_embedding(model, target_text, batch_size=16)\n",
    "\n",
    "    # get similarity\n",
    "    length = len(target_embedding)\n",
    "    sim_matrix = torch.zeros(length, dtype=torch.float16)\n",
    "    for i in tqdm(range(length), desc=\"Similarity Matrix\"):\n",
    "        similarity = F.cosine_similarity(target_embedding[i], generated_embedding)\n",
    "        sim_matrix[i] += similarity[i].item()\n",
    "\n",
    "    sim_matrix = sim_matrix.numpy()\n",
    "\n",
    "    return sim_matrix"
   ]
  },
  {
   "cell_type": "code",
   "execution_count": 6,
   "metadata": {},
   "outputs": [
    {
     "name": "stderr",
     "output_type": "stream",
     "text": [
      "Similarity Matrix: 100%|██████████| 7300/7300 [00:27<00:00, 261.80it/s]\n"
     ]
    },
    {
     "data": {
      "text/plain": [
       "array([0.5884, 0.8086, 0.6763, ..., 0.7065, 0.7266, 0.814 ], dtype=float16)"
      ]
     },
     "execution_count": 6,
     "metadata": {},
     "output_type": "execute_result"
    }
   ],
   "source": [
    "generated_text = data.loc[:, 'generated_output'].tolist()\n",
    "target_text = data.loc[:, 'ground_truth'].tolist()\n",
    "sim_scores = sentence_embedding_sim_matrix(generated_text, target_text)\n",
    "sim_scores"
   ]
  },
  {
   "cell_type": "code",
   "execution_count": 8,
   "metadata": {},
   "outputs": [
    {
     "data": {
      "text/html": [
       "<div>\n",
       "<style scoped>\n",
       "    .dataframe tbody tr th:only-of-type {\n",
       "        vertical-align: middle;\n",
       "    }\n",
       "\n",
       "    .dataframe tbody tr th {\n",
       "        vertical-align: top;\n",
       "    }\n",
       "\n",
       "    .dataframe thead th {\n",
       "        text-align: right;\n",
       "    }\n",
       "</style>\n",
       "<table border=\"1\" class=\"dataframe\">\n",
       "  <thead>\n",
       "    <tr style=\"text-align: right;\">\n",
       "      <th></th>\n",
       "      <th>generated_output</th>\n",
       "      <th>ground_truth</th>\n",
       "      <th>cosine_similarity</th>\n",
       "    </tr>\n",
       "  </thead>\n",
       "  <tbody>\n",
       "    <tr>\n",
       "      <th>0</th>\n",
       "      <td>부동산·편법거래 및 시장 교란행위가 부동산시장을 왜곡하고 있지만 기대심리와 투기수요...</td>\n",
       "      <td>국내 기관뿐만 아니라 BIS 등 국제기구에서도 과도하게 상승한 주택 가격의 조정 가...</td>\n",
       "      <td>0.588379</td>\n",
       "    </tr>\n",
       "    <tr>\n",
       "      <th>1</th>\n",
       "      <td>정부는 코로나19 이후 증가한 시중 유동성에 대한 관리를 강화해나가고자 하며 경제의...</td>\n",
       "      <td>정부는 경제의 안정적 성장과 부동산시장 안정을 위해 가계부채를 보다 촘촘히 점검·관...</td>\n",
       "      <td>0.808594</td>\n",
       "    </tr>\n",
       "    <tr>\n",
       "      <th>2</th>\n",
       "      <td>자녀 내에서 일·생활 균형문화 확산을 위해 가족친화인증제도의 인증 기준을 강화하는 ...</td>\n",
       "      <td>의료종사자의 인권침해 예방 등 여성이 많이 종사하는 직종에 대한 보호를 강화해나가고...</td>\n",
       "      <td>0.676270</td>\n",
       "    </tr>\n",
       "    <tr>\n",
       "      <th>3</th>\n",
       "      <td>국립감염병연구소에서는 백신접종자의 혈액을 채취한 후 실제 바이러스에 노출시켜 감염을...</td>\n",
       "      <td>국립감염병연구소에서 백신 접종자의 혈액을 채취하여 중화항체 실험을 시행했다.</td>\n",
       "      <td>0.905273</td>\n",
       "    </tr>\n",
       "    <tr>\n",
       "      <th>4</th>\n",
       "      <td>온벤처붐 안착과 성과 확산을 촉진하고 혁신 중소벤처기업 육성 및 지역 기반 창업 활...</td>\n",
       "      <td>중소벤처기업부는 전 부처 중소기업 정책의 총괄 기능을 강화하고 빅데이터 기반 정책 ...</td>\n",
       "      <td>0.634277</td>\n",
       "    </tr>\n",
       "    <tr>\n",
       "      <th>...</th>\n",
       "      <td>...</td>\n",
       "      <td>...</td>\n",
       "      <td>...</td>\n",
       "    </tr>\n",
       "    <tr>\n",
       "      <th>7295</th>\n",
       "      <td>&lt;불후의 명곡-전설을 노래하다&gt; ‘들국화 전인권’ 편에서 박완규는 '불미스러운 첫 ...</td>\n",
       "      <td>&lt;불후의 명곡-전설을 노래하다&gt;에서 박완규는 전인권에게 고소를 당해 법정에서 첫 만...</td>\n",
       "      <td>0.837402</td>\n",
       "    </tr>\n",
       "    <tr>\n",
       "      <th>7296</th>\n",
       "      <td>'살림남2'에 출연한 홍성흔은 코로나 확산으로 인해 재계약 불가로 국내에 머물고 있...</td>\n",
       "      <td>‘살림하는 남자들 시즌2’에 새롭게 출연한 홍성흔이 17년 만에 함께 살게 된 가족...</td>\n",
       "      <td>0.696289</td>\n",
       "    </tr>\n",
       "    <tr>\n",
       "      <th>7297</th>\n",
       "      <td>'살림남2'에서 올림픽 양궁 2관왕 김제덕이 처음으로 등교를 했으며 담임 선생님과 ...</td>\n",
       "      <td>올해 첫 등교를 하게 된 올림픽 양궁 선수 김제덕의 일상이 예능 프로그램 ‘살림하는...</td>\n",
       "      <td>0.706543</td>\n",
       "    </tr>\n",
       "    <tr>\n",
       "      <th>7298</th>\n",
       "      <td>'1박 2일' 시즌 4는 익숙한 재미와 톡톡 튀는 신선함으로 안방극장을 웃음바다에 ...</td>\n",
       "      <td>'1박2일' 시즌 4가 새 출연진과 제작진으로 재미를 선사했고 멤버들이 룰라의 노래...</td>\n",
       "      <td>0.726562</td>\n",
       "    </tr>\n",
       "    <tr>\n",
       "      <th>7299</th>\n",
       "      <td>'해피 선데이-슈퍼맨이 돌아왔다'에서 사유리와 그의 아들 젠이 새로운 가족이 되어 ...</td>\n",
       "      <td>사유리와 그의 아들 젠이 KBS 2TV &lt;해피 선데이-슈퍼맨이 돌아왔다&gt;에 출연해 ...</td>\n",
       "      <td>0.813965</td>\n",
       "    </tr>\n",
       "  </tbody>\n",
       "</table>\n",
       "<p>7300 rows × 3 columns</p>\n",
       "</div>"
      ],
      "text/plain": [
       "                                       generated_output  \\\n",
       "0     부동산·편법거래 및 시장 교란행위가 부동산시장을 왜곡하고 있지만 기대심리와 투기수요...   \n",
       "1     정부는 코로나19 이후 증가한 시중 유동성에 대한 관리를 강화해나가고자 하며 경제의...   \n",
       "2     자녀 내에서 일·생활 균형문화 확산을 위해 가족친화인증제도의 인증 기준을 강화하는 ...   \n",
       "3     국립감염병연구소에서는 백신접종자의 혈액을 채취한 후 실제 바이러스에 노출시켜 감염을...   \n",
       "4     온벤처붐 안착과 성과 확산을 촉진하고 혁신 중소벤처기업 육성 및 지역 기반 창업 활...   \n",
       "...                                                 ...   \n",
       "7295  <불후의 명곡-전설을 노래하다> ‘들국화 전인권’ 편에서 박완규는 '불미스러운 첫 ...   \n",
       "7296  '살림남2'에 출연한 홍성흔은 코로나 확산으로 인해 재계약 불가로 국내에 머물고 있...   \n",
       "7297  '살림남2'에서 올림픽 양궁 2관왕 김제덕이 처음으로 등교를 했으며 담임 선생님과 ...   \n",
       "7298  '1박 2일' 시즌 4는 익숙한 재미와 톡톡 튀는 신선함으로 안방극장을 웃음바다에 ...   \n",
       "7299  '해피 선데이-슈퍼맨이 돌아왔다'에서 사유리와 그의 아들 젠이 새로운 가족이 되어 ...   \n",
       "\n",
       "                                           ground_truth  cosine_similarity  \n",
       "0     국내 기관뿐만 아니라 BIS 등 국제기구에서도 과도하게 상승한 주택 가격의 조정 가...           0.588379  \n",
       "1     정부는 경제의 안정적 성장과 부동산시장 안정을 위해 가계부채를 보다 촘촘히 점검·관...           0.808594  \n",
       "2     의료종사자의 인권침해 예방 등 여성이 많이 종사하는 직종에 대한 보호를 강화해나가고...           0.676270  \n",
       "3            국립감염병연구소에서 백신 접종자의 혈액을 채취하여 중화항체 실험을 시행했다.           0.905273  \n",
       "4     중소벤처기업부는 전 부처 중소기업 정책의 총괄 기능을 강화하고 빅데이터 기반 정책 ...           0.634277  \n",
       "...                                                 ...                ...  \n",
       "7295  <불후의 명곡-전설을 노래하다>에서 박완규는 전인권에게 고소를 당해 법정에서 첫 만...           0.837402  \n",
       "7296  ‘살림하는 남자들 시즌2’에 새롭게 출연한 홍성흔이 17년 만에 함께 살게 된 가족...           0.696289  \n",
       "7297  올해 첫 등교를 하게 된 올림픽 양궁 선수 김제덕의 일상이 예능 프로그램 ‘살림하는...           0.706543  \n",
       "7298  '1박2일' 시즌 4가 새 출연진과 제작진으로 재미를 선사했고 멤버들이 룰라의 노래...           0.726562  \n",
       "7299  사유리와 그의 아들 젠이 KBS 2TV <해피 선데이-슈퍼맨이 돌아왔다>에 출연해 ...           0.813965  \n",
       "\n",
       "[7300 rows x 3 columns]"
      ]
     },
     "execution_count": 8,
     "metadata": {},
     "output_type": "execute_result"
    }
   ],
   "source": [
    "data['cosine_similarity'] = sim_scores\n",
    "data"
   ]
  },
  {
   "cell_type": "code",
   "execution_count": 9,
   "metadata": {},
   "outputs": [
    {
     "data": {
      "text/plain": [
       "0.683"
      ]
     },
     "execution_count": 9,
     "metadata": {},
     "output_type": "execute_result"
    }
   ],
   "source": [
    "data['cosine_similarity'].mean()"
   ]
  },
  {
   "attachments": {},
   "cell_type": "markdown",
   "metadata": {},
   "source": [
    "### Rouge 계산\n",
    "\n",
    "- 여러 개 한번에 계산하려면 문장 단위 list로 넣으면 됨"
   ]
  },
  {
   "cell_type": "code",
   "execution_count": 10,
   "metadata": {},
   "outputs": [
    {
     "name": "stdout",
     "output_type": "stream",
     "text": [
      "ROUGE-1(F1) 0.148\n",
      "ROUGE-2(F1) 0.0\n",
      "ROUGE-L(F1) 0.148\n"
     ]
    }
   ],
   "source": [
    "from rouge import Rouge\n",
    "\n",
    "\n",
    "model_out = [\"봉준호 감독의 영화 <신자유주의로 인한 양극화>가 세계적인 보편성을 획득하여 칸영화제 황금종려상을 수상했다.\"]\n",
    "reference = [\"영화의 주제가 세계적인 공통 문제라 높은 평가를 받았고, 대중적이지 않은 줄거리지만 칸영화제 후광 효과가 작용했다.\"]\n",
    "rouge = Rouge()\n",
    "scores = rouge.get_scores(model_out, reference, avg=True)\n",
    "print(\"ROUGE-1(F1)\", round(scores['rouge-1']['f'], 3))\n",
    "print(\"ROUGE-2(F1)\", round(scores['rouge-2']['f'], 3))\n",
    "print(\"ROUGE-L(F1)\", round(scores['rouge-l']['f'], 3))"
   ]
  },
  {
   "attachments": {},
   "cell_type": "markdown",
   "metadata": {},
   "source": [
    "### 1개 데이터에 대한 Cosine Similarity"
   ]
  },
  {
   "cell_type": "code",
   "execution_count": 11,
   "metadata": {},
   "outputs": [],
   "source": [
    "def get_sentence_embedding(model, text: list, batch_size: int = 16) -> torch.Tensor:\n",
    "    with torch.no_grad():\n",
    "        embedding = model.encode(\n",
    "            sentences         = text,\n",
    "            batch_size        = batch_size,\n",
    "            show_progress_bar = False,\n",
    "            convert_to_tensor = True,\n",
    "            device            = 'cuda:0',\n",
    "        )\n",
    "    return embedding.cpu()\n",
    "\n",
    "def sentence_embedding_sim_matrix(generated_text: list, target_text: str) -> np.ndarray:\n",
    "    '''\n",
    "    reference: https://github.com/jhgan00/ko-sentence-transformers\n",
    "    '''\n",
    "    # model setting\n",
    "    model = SentenceTransformer('jhgan/ko-sroberta-multitask')\n",
    "\n",
    "    # get sbert embeddings\n",
    "    generated_embedding = get_sentence_embedding(model, generated_text, batch_size=1)\n",
    "    target_embedding = get_sentence_embedding(model, target_text, batch_size=1)\n",
    "\n",
    "    # get similarity\n",
    "    similarity = F.cosine_similarity(target_embedding, generated_embedding)\n",
    "\n",
    "    return similarity"
   ]
  },
  {
   "cell_type": "code",
   "execution_count": 12,
   "metadata": {},
   "outputs": [
    {
     "data": {
      "text/plain": [
       "tensor([0.6405])"
      ]
     },
     "execution_count": 12,
     "metadata": {},
     "output_type": "execute_result"
    }
   ],
   "source": [
    "from sentence_transformers import SentenceTransformer\n",
    "\n",
    "model = SentenceTransformer('jhgan/ko-sroberta-multitask')\n",
    "\n",
    "generated_embedding = get_sentence_embedding(model, model_out, batch_size=1)\n",
    "target_embedding = get_sentence_embedding(model, reference, batch_size=1)\n",
    "similarity = F.cosine_similarity(target_embedding, generated_embedding)\n",
    "similarity"
   ]
  },
  {
   "cell_type": "code",
   "execution_count": null,
   "metadata": {},
   "outputs": [],
   "source": []
  }
 ],
 "metadata": {
  "kernelspec": {
   "display_name": "mrc",
   "language": "python",
   "name": "python3"
  },
  "language_info": {
   "codemirror_mode": {
    "name": "ipython",
    "version": 3
   },
   "file_extension": ".py",
   "mimetype": "text/x-python",
   "name": "python",
   "nbconvert_exporter": "python",
   "pygments_lexer": "ipython3",
   "version": "3.8.15"
  },
  "orig_nbformat": 4,
  "vscode": {
   "interpreter": {
    "hash": "6433bde22504cbf34326cab27df20b94e196fcf98213f776ce9807cc95ec7583"
   }
  }
 },
 "nbformat": 4,
 "nbformat_minor": 2
}
